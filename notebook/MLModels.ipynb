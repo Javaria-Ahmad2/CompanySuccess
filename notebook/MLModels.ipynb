{
  "nbformat": 4,
  "nbformat_minor": 0,
  "metadata": {
    "colab": {
      "name": "MLModels.ipynb",
      "provenance": [],
      "collapsed_sections": [],
      "toc_visible": true
    },
    "kernelspec": {
      "name": "python3",
      "display_name": "Python 3"
    },
    "accelerator": "GPU"
  },
  "cells": [
    {
      "cell_type": "code",
      "metadata": {
        "id": "zsqMaIACvxt1",
        "colab_type": "code",
        "outputId": "1aa42494-ab86-4fc7-8842-79646235acc9",
        "colab": {
          "base_uri": "https://localhost:8080/",
          "height": 105
        }
      },
      "source": [
        "#importing libraries\n",
        "import pandas as pd\n",
        "import matplotlib.pyplot as plt\n",
        "import numpy as np\n",
        "import seaborn as sns\n",
        "\n",
        "from sklearn.metrics import accuracy_score,confusion_matrix,f1_score,classification_report,make_scorer,roc_curve,auc\n",
        "from sklearn.tree import DecisionTreeClassifier # Import Decision Tree Classifier\n",
        "from sklearn.model_selection import train_test_split,GridSearchCV # Import train_test_split function\n",
        "\n",
        "#for visualization\n",
        "from sklearn.externals.six import StringIO  \n",
        "from IPython.display import Image  \n",
        "from sklearn.tree import export_graphviz\n",
        "import pydotplus\n",
        "\n",
        "from sklearn.utils import resample\n",
        "\n",
        "import warnings\n",
        "warnings.simplefilter('ignore')\n",
        "\n",
        "from joblib import dump, load\n"
      ],
      "execution_count": 2,
      "outputs": [
        {
          "output_type": "stream",
          "text": [
            "/usr/local/lib/python3.6/dist-packages/statsmodels/tools/_testing.py:19: FutureWarning: pandas.util.testing is deprecated. Use the functions in the public API at pandas.testing instead.\n",
            "  import pandas.util.testing as tm\n",
            "/usr/local/lib/python3.6/dist-packages/sklearn/externals/six.py:31: FutureWarning: The module is deprecated in version 0.21 and will be removed in version 0.23 since we've dropped support for Python 2.7. Please rely on the official version of six (https://pypi.org/project/six/).\n",
            "  \"(https://pypi.org/project/six/).\", FutureWarning)\n"
          ],
          "name": "stderr"
        }
      ]
    },
    {
      "cell_type": "code",
      "metadata": {
        "id": "pTSjUEYfv4ME",
        "colab_type": "code",
        "colab": {}
      },
      "source": [
        "! mkdir /content/data\n",
        "!cp clean_dataset_v2.csv /content/data"
      ],
      "execution_count": 0,
      "outputs": []
    },
    {
      "cell_type": "code",
      "metadata": {
        "id": "we2rOcRswDyI",
        "colab_type": "code",
        "outputId": "bfc75792-6562-4a9d-8ca7-577d3b50d232",
        "colab": {
          "base_uri": "https://localhost:8080/",
          "height": 253
        }
      },
      "source": [
        "df = pd.read_csv('data/clean_dataset_v2.csv')\n",
        "df.head()"
      ],
      "execution_count": 3,
      "outputs": [
        {
          "output_type": "execute_result",
          "data": {
            "text/html": [
              "<div>\n",
              "<style scoped>\n",
              "    .dataframe tbody tr th:only-of-type {\n",
              "        vertical-align: middle;\n",
              "    }\n",
              "\n",
              "    .dataframe tbody tr th {\n",
              "        vertical-align: top;\n",
              "    }\n",
              "\n",
              "    .dataframe thead th {\n",
              "        text-align: right;\n",
              "    }\n",
              "</style>\n",
              "<table border=\"1\" class=\"dataframe\">\n",
              "  <thead>\n",
              "    <tr style=\"text-align: right;\">\n",
              "      <th></th>\n",
              "      <th>funding_total_usd</th>\n",
              "      <th>funding_rounds</th>\n",
              "      <th>total_investors</th>\n",
              "      <th>funding_duration</th>\n",
              "      <th>pseudoEstd</th>\n",
              "      <th>angel</th>\n",
              "      <th>convertible_note</th>\n",
              "      <th>debt_financing</th>\n",
              "      <th>equity_crowdfunding</th>\n",
              "      <th>grant</th>\n",
              "      <th>non_equity_assistance</th>\n",
              "      <th>private_equity</th>\n",
              "      <th>product_crowdfunding</th>\n",
              "      <th>secondary_market</th>\n",
              "      <th>seed</th>\n",
              "      <th>undisclosed</th>\n",
              "      <th>venture</th>\n",
              "      <th>A</th>\n",
              "      <th>B</th>\n",
              "      <th>C</th>\n",
              "      <th>D</th>\n",
              "      <th>E</th>\n",
              "      <th>F</th>\n",
              "      <th>G</th>\n",
              "      <th>H</th>\n",
              "      <th>success</th>\n",
              "      <th>cluster0</th>\n",
              "      <th>cluster1</th>\n",
              "      <th>cluster2</th>\n",
              "      <th>cluster3</th>\n",
              "      <th>cluster4</th>\n",
              "      <th>cluster5</th>\n",
              "      <th>cluster6</th>\n",
              "      <th>cluster7</th>\n",
              "      <th>cluster8</th>\n",
              "      <th>cluster9</th>\n",
              "      <th>cluster10</th>\n",
              "      <th>cluster11</th>\n",
              "      <th>cluster12</th>\n",
              "      <th>cluster13</th>\n",
              "      <th>...</th>\n",
              "      <th>IA</th>\n",
              "      <th>ID</th>\n",
              "      <th>IL</th>\n",
              "      <th>IN</th>\n",
              "      <th>KS</th>\n",
              "      <th>KY</th>\n",
              "      <th>LA</th>\n",
              "      <th>MA</th>\n",
              "      <th>MD</th>\n",
              "      <th>ME</th>\n",
              "      <th>MI</th>\n",
              "      <th>MN</th>\n",
              "      <th>MO</th>\n",
              "      <th>MS</th>\n",
              "      <th>MT</th>\n",
              "      <th>NC</th>\n",
              "      <th>ND</th>\n",
              "      <th>NE</th>\n",
              "      <th>NH</th>\n",
              "      <th>NJ</th>\n",
              "      <th>NM</th>\n",
              "      <th>NV</th>\n",
              "      <th>NY</th>\n",
              "      <th>OH</th>\n",
              "      <th>OK</th>\n",
              "      <th>OR</th>\n",
              "      <th>PA</th>\n",
              "      <th>RI</th>\n",
              "      <th>SC</th>\n",
              "      <th>SD</th>\n",
              "      <th>TN</th>\n",
              "      <th>TX</th>\n",
              "      <th>UT</th>\n",
              "      <th>VA</th>\n",
              "      <th>VI</th>\n",
              "      <th>VT</th>\n",
              "      <th>WA</th>\n",
              "      <th>WI</th>\n",
              "      <th>WV</th>\n",
              "      <th>WY</th>\n",
              "    </tr>\n",
              "  </thead>\n",
              "  <tbody>\n",
              "    <tr>\n",
              "      <th>0</th>\n",
              "      <td>5.845098</td>\n",
              "      <td>2</td>\n",
              "      <td>0.0</td>\n",
              "      <td>7.0</td>\n",
              "      <td>649.0</td>\n",
              "      <td>0.0</td>\n",
              "      <td>0.0</td>\n",
              "      <td>0.0</td>\n",
              "      <td>0.0</td>\n",
              "      <td>0.0</td>\n",
              "      <td>0.0</td>\n",
              "      <td>0.0</td>\n",
              "      <td>0.0</td>\n",
              "      <td>0.0</td>\n",
              "      <td>1.0</td>\n",
              "      <td>0.0</td>\n",
              "      <td>1.0</td>\n",
              "      <td>1.0</td>\n",
              "      <td>0.0</td>\n",
              "      <td>0.0</td>\n",
              "      <td>0.0</td>\n",
              "      <td>0.0</td>\n",
              "      <td>0.0</td>\n",
              "      <td>0.0</td>\n",
              "      <td>0.0</td>\n",
              "      <td>0</td>\n",
              "      <td>0.0</td>\n",
              "      <td>0.0</td>\n",
              "      <td>0.0</td>\n",
              "      <td>0.0</td>\n",
              "      <td>0.0</td>\n",
              "      <td>0.0</td>\n",
              "      <td>0.0</td>\n",
              "      <td>0.0</td>\n",
              "      <td>0.0</td>\n",
              "      <td>0.0</td>\n",
              "      <td>0.0</td>\n",
              "      <td>0.0</td>\n",
              "      <td>0.0</td>\n",
              "      <td>0.0</td>\n",
              "      <td>...</td>\n",
              "      <td>0</td>\n",
              "      <td>0</td>\n",
              "      <td>0</td>\n",
              "      <td>0</td>\n",
              "      <td>0</td>\n",
              "      <td>0</td>\n",
              "      <td>0</td>\n",
              "      <td>0</td>\n",
              "      <td>0</td>\n",
              "      <td>0</td>\n",
              "      <td>0</td>\n",
              "      <td>0</td>\n",
              "      <td>0</td>\n",
              "      <td>0</td>\n",
              "      <td>0</td>\n",
              "      <td>0</td>\n",
              "      <td>0</td>\n",
              "      <td>0</td>\n",
              "      <td>0</td>\n",
              "      <td>0</td>\n",
              "      <td>0</td>\n",
              "      <td>0</td>\n",
              "      <td>0</td>\n",
              "      <td>0</td>\n",
              "      <td>0</td>\n",
              "      <td>0</td>\n",
              "      <td>0</td>\n",
              "      <td>0</td>\n",
              "      <td>0</td>\n",
              "      <td>0</td>\n",
              "      <td>0</td>\n",
              "      <td>0</td>\n",
              "      <td>0</td>\n",
              "      <td>0</td>\n",
              "      <td>0</td>\n",
              "      <td>0</td>\n",
              "      <td>0</td>\n",
              "      <td>0</td>\n",
              "      <td>0</td>\n",
              "      <td>0</td>\n",
              "    </tr>\n",
              "    <tr>\n",
              "      <th>1</th>\n",
              "      <td>7.316785</td>\n",
              "      <td>1</td>\n",
              "      <td>1.0</td>\n",
              "      <td>0.0</td>\n",
              "      <td>654.0</td>\n",
              "      <td>0.0</td>\n",
              "      <td>0.0</td>\n",
              "      <td>0.0</td>\n",
              "      <td>0.0</td>\n",
              "      <td>0.0</td>\n",
              "      <td>0.0</td>\n",
              "      <td>0.0</td>\n",
              "      <td>0.0</td>\n",
              "      <td>0.0</td>\n",
              "      <td>0.0</td>\n",
              "      <td>0.0</td>\n",
              "      <td>1.0</td>\n",
              "      <td>0.0</td>\n",
              "      <td>0.0</td>\n",
              "      <td>0.0</td>\n",
              "      <td>0.0</td>\n",
              "      <td>0.0</td>\n",
              "      <td>0.0</td>\n",
              "      <td>0.0</td>\n",
              "      <td>0.0</td>\n",
              "      <td>0</td>\n",
              "      <td>0.0</td>\n",
              "      <td>0.0</td>\n",
              "      <td>0.0</td>\n",
              "      <td>0.0</td>\n",
              "      <td>0.0</td>\n",
              "      <td>0.0</td>\n",
              "      <td>0.0</td>\n",
              "      <td>0.0</td>\n",
              "      <td>0.0</td>\n",
              "      <td>0.0</td>\n",
              "      <td>0.0</td>\n",
              "      <td>0.0</td>\n",
              "      <td>0.0</td>\n",
              "      <td>0.0</td>\n",
              "      <td>...</td>\n",
              "      <td>0</td>\n",
              "      <td>0</td>\n",
              "      <td>1</td>\n",
              "      <td>0</td>\n",
              "      <td>0</td>\n",
              "      <td>0</td>\n",
              "      <td>0</td>\n",
              "      <td>0</td>\n",
              "      <td>0</td>\n",
              "      <td>0</td>\n",
              "      <td>0</td>\n",
              "      <td>0</td>\n",
              "      <td>0</td>\n",
              "      <td>0</td>\n",
              "      <td>0</td>\n",
              "      <td>0</td>\n",
              "      <td>0</td>\n",
              "      <td>0</td>\n",
              "      <td>0</td>\n",
              "      <td>0</td>\n",
              "      <td>0</td>\n",
              "      <td>0</td>\n",
              "      <td>0</td>\n",
              "      <td>0</td>\n",
              "      <td>0</td>\n",
              "      <td>0</td>\n",
              "      <td>0</td>\n",
              "      <td>0</td>\n",
              "      <td>0</td>\n",
              "      <td>0</td>\n",
              "      <td>0</td>\n",
              "      <td>0</td>\n",
              "      <td>0</td>\n",
              "      <td>0</td>\n",
              "      <td>0</td>\n",
              "      <td>0</td>\n",
              "      <td>0</td>\n",
              "      <td>0</td>\n",
              "      <td>0</td>\n",
              "      <td>0</td>\n",
              "    </tr>\n",
              "    <tr>\n",
              "      <th>2</th>\n",
              "      <td>7.526339</td>\n",
              "      <td>4</td>\n",
              "      <td>14.0</td>\n",
              "      <td>34.0</td>\n",
              "      <td>636.0</td>\n",
              "      <td>0.0</td>\n",
              "      <td>0.0</td>\n",
              "      <td>0.0</td>\n",
              "      <td>0.0</td>\n",
              "      <td>0.0</td>\n",
              "      <td>0.0</td>\n",
              "      <td>0.0</td>\n",
              "      <td>0.0</td>\n",
              "      <td>0.0</td>\n",
              "      <td>1.0</td>\n",
              "      <td>0.0</td>\n",
              "      <td>3.0</td>\n",
              "      <td>1.0</td>\n",
              "      <td>1.0</td>\n",
              "      <td>0.0</td>\n",
              "      <td>0.0</td>\n",
              "      <td>0.0</td>\n",
              "      <td>0.0</td>\n",
              "      <td>0.0</td>\n",
              "      <td>0.0</td>\n",
              "      <td>0</td>\n",
              "      <td>0.0</td>\n",
              "      <td>0.0</td>\n",
              "      <td>0.0</td>\n",
              "      <td>0.0</td>\n",
              "      <td>0.0</td>\n",
              "      <td>0.0</td>\n",
              "      <td>0.0</td>\n",
              "      <td>0.0</td>\n",
              "      <td>0.0</td>\n",
              "      <td>0.0</td>\n",
              "      <td>0.0</td>\n",
              "      <td>0.0</td>\n",
              "      <td>0.0</td>\n",
              "      <td>0.0</td>\n",
              "      <td>...</td>\n",
              "      <td>0</td>\n",
              "      <td>0</td>\n",
              "      <td>0</td>\n",
              "      <td>0</td>\n",
              "      <td>0</td>\n",
              "      <td>0</td>\n",
              "      <td>0</td>\n",
              "      <td>0</td>\n",
              "      <td>0</td>\n",
              "      <td>0</td>\n",
              "      <td>0</td>\n",
              "      <td>0</td>\n",
              "      <td>0</td>\n",
              "      <td>0</td>\n",
              "      <td>0</td>\n",
              "      <td>0</td>\n",
              "      <td>0</td>\n",
              "      <td>0</td>\n",
              "      <td>0</td>\n",
              "      <td>0</td>\n",
              "      <td>0</td>\n",
              "      <td>0</td>\n",
              "      <td>0</td>\n",
              "      <td>0</td>\n",
              "      <td>0</td>\n",
              "      <td>0</td>\n",
              "      <td>0</td>\n",
              "      <td>0</td>\n",
              "      <td>0</td>\n",
              "      <td>0</td>\n",
              "      <td>0</td>\n",
              "      <td>0</td>\n",
              "      <td>0</td>\n",
              "      <td>0</td>\n",
              "      <td>0</td>\n",
              "      <td>0</td>\n",
              "      <td>0</td>\n",
              "      <td>0</td>\n",
              "      <td>0</td>\n",
              "      <td>0</td>\n",
              "    </tr>\n",
              "    <tr>\n",
              "      <th>3</th>\n",
              "      <td>6.060717</td>\n",
              "      <td>3</td>\n",
              "      <td>13.0</td>\n",
              "      <td>30.0</td>\n",
              "      <td>618.0</td>\n",
              "      <td>0.0</td>\n",
              "      <td>0.0</td>\n",
              "      <td>0.0</td>\n",
              "      <td>0.0</td>\n",
              "      <td>0.0</td>\n",
              "      <td>0.0</td>\n",
              "      <td>0.0</td>\n",
              "      <td>0.0</td>\n",
              "      <td>0.0</td>\n",
              "      <td>2.0</td>\n",
              "      <td>1.0</td>\n",
              "      <td>0.0</td>\n",
              "      <td>0.0</td>\n",
              "      <td>0.0</td>\n",
              "      <td>0.0</td>\n",
              "      <td>0.0</td>\n",
              "      <td>0.0</td>\n",
              "      <td>0.0</td>\n",
              "      <td>0.0</td>\n",
              "      <td>0.0</td>\n",
              "      <td>0</td>\n",
              "      <td>0.0</td>\n",
              "      <td>0.0</td>\n",
              "      <td>0.0</td>\n",
              "      <td>0.0</td>\n",
              "      <td>0.0</td>\n",
              "      <td>0.0</td>\n",
              "      <td>0.0</td>\n",
              "      <td>0.0</td>\n",
              "      <td>0.0</td>\n",
              "      <td>0.0</td>\n",
              "      <td>0.0</td>\n",
              "      <td>0.0</td>\n",
              "      <td>0.0</td>\n",
              "      <td>0.0</td>\n",
              "      <td>...</td>\n",
              "      <td>0</td>\n",
              "      <td>0</td>\n",
              "      <td>0</td>\n",
              "      <td>0</td>\n",
              "      <td>0</td>\n",
              "      <td>0</td>\n",
              "      <td>0</td>\n",
              "      <td>0</td>\n",
              "      <td>0</td>\n",
              "      <td>0</td>\n",
              "      <td>0</td>\n",
              "      <td>0</td>\n",
              "      <td>0</td>\n",
              "      <td>0</td>\n",
              "      <td>0</td>\n",
              "      <td>0</td>\n",
              "      <td>0</td>\n",
              "      <td>0</td>\n",
              "      <td>0</td>\n",
              "      <td>0</td>\n",
              "      <td>0</td>\n",
              "      <td>0</td>\n",
              "      <td>0</td>\n",
              "      <td>0</td>\n",
              "      <td>0</td>\n",
              "      <td>0</td>\n",
              "      <td>0</td>\n",
              "      <td>0</td>\n",
              "      <td>0</td>\n",
              "      <td>0</td>\n",
              "      <td>0</td>\n",
              "      <td>0</td>\n",
              "      <td>0</td>\n",
              "      <td>0</td>\n",
              "      <td>0</td>\n",
              "      <td>0</td>\n",
              "      <td>0</td>\n",
              "      <td>0</td>\n",
              "      <td>0</td>\n",
              "      <td>0</td>\n",
              "    </tr>\n",
              "    <tr>\n",
              "      <th>4</th>\n",
              "      <td>6.957633</td>\n",
              "      <td>1</td>\n",
              "      <td>0.0</td>\n",
              "      <td>0.0</td>\n",
              "      <td>639.0</td>\n",
              "      <td>0.0</td>\n",
              "      <td>0.0</td>\n",
              "      <td>0.0</td>\n",
              "      <td>1.0</td>\n",
              "      <td>0.0</td>\n",
              "      <td>0.0</td>\n",
              "      <td>0.0</td>\n",
              "      <td>0.0</td>\n",
              "      <td>0.0</td>\n",
              "      <td>0.0</td>\n",
              "      <td>0.0</td>\n",
              "      <td>0.0</td>\n",
              "      <td>0.0</td>\n",
              "      <td>0.0</td>\n",
              "      <td>0.0</td>\n",
              "      <td>0.0</td>\n",
              "      <td>0.0</td>\n",
              "      <td>0.0</td>\n",
              "      <td>0.0</td>\n",
              "      <td>0.0</td>\n",
              "      <td>0</td>\n",
              "      <td>0.0</td>\n",
              "      <td>0.0</td>\n",
              "      <td>0.0</td>\n",
              "      <td>0.0</td>\n",
              "      <td>0.0</td>\n",
              "      <td>0.0</td>\n",
              "      <td>0.0</td>\n",
              "      <td>0.0</td>\n",
              "      <td>0.0</td>\n",
              "      <td>0.0</td>\n",
              "      <td>0.0</td>\n",
              "      <td>0.0</td>\n",
              "      <td>0.0</td>\n",
              "      <td>0.0</td>\n",
              "      <td>...</td>\n",
              "      <td>0</td>\n",
              "      <td>0</td>\n",
              "      <td>0</td>\n",
              "      <td>0</td>\n",
              "      <td>0</td>\n",
              "      <td>0</td>\n",
              "      <td>0</td>\n",
              "      <td>0</td>\n",
              "      <td>0</td>\n",
              "      <td>0</td>\n",
              "      <td>0</td>\n",
              "      <td>0</td>\n",
              "      <td>0</td>\n",
              "      <td>0</td>\n",
              "      <td>0</td>\n",
              "      <td>1</td>\n",
              "      <td>0</td>\n",
              "      <td>0</td>\n",
              "      <td>0</td>\n",
              "      <td>0</td>\n",
              "      <td>0</td>\n",
              "      <td>0</td>\n",
              "      <td>0</td>\n",
              "      <td>0</td>\n",
              "      <td>0</td>\n",
              "      <td>0</td>\n",
              "      <td>0</td>\n",
              "      <td>0</td>\n",
              "      <td>0</td>\n",
              "      <td>0</td>\n",
              "      <td>0</td>\n",
              "      <td>0</td>\n",
              "      <td>0</td>\n",
              "      <td>0</td>\n",
              "      <td>0</td>\n",
              "      <td>0</td>\n",
              "      <td>0</td>\n",
              "      <td>0</td>\n",
              "      <td>0</td>\n",
              "      <td>0</td>\n",
              "    </tr>\n",
              "  </tbody>\n",
              "</table>\n",
              "<p>5 rows × 130 columns</p>\n",
              "</div>"
            ],
            "text/plain": [
              "   funding_total_usd  funding_rounds  total_investors  ...  WI  WV  WY\n",
              "0           5.845098               2              0.0  ...   0   0   0\n",
              "1           7.316785               1              1.0  ...   0   0   0\n",
              "2           7.526339               4             14.0  ...   0   0   0\n",
              "3           6.060717               3             13.0  ...   0   0   0\n",
              "4           6.957633               1              0.0  ...   0   0   0\n",
              "\n",
              "[5 rows x 130 columns]"
            ]
          },
          "metadata": {
            "tags": []
          },
          "execution_count": 3
        }
      ]
    },
    {
      "cell_type": "code",
      "metadata": {
        "id": "YLsgDs7ewRG5",
        "colab_type": "code",
        "outputId": "6a2cbdb9-ddf2-4ff4-bee8-98f810e1ed7d",
        "colab": {
          "base_uri": "https://localhost:8080/",
          "height": 439
        }
      },
      "source": [
        "labels = df['success'].astype(int)\n",
        "features = df.drop(['success'],axis=1)\n",
        "features"
      ],
      "execution_count": 4,
      "outputs": [
        {
          "output_type": "execute_result",
          "data": {
            "text/html": [
              "<div>\n",
              "<style scoped>\n",
              "    .dataframe tbody tr th:only-of-type {\n",
              "        vertical-align: middle;\n",
              "    }\n",
              "\n",
              "    .dataframe tbody tr th {\n",
              "        vertical-align: top;\n",
              "    }\n",
              "\n",
              "    .dataframe thead th {\n",
              "        text-align: right;\n",
              "    }\n",
              "</style>\n",
              "<table border=\"1\" class=\"dataframe\">\n",
              "  <thead>\n",
              "    <tr style=\"text-align: right;\">\n",
              "      <th></th>\n",
              "      <th>funding_total_usd</th>\n",
              "      <th>funding_rounds</th>\n",
              "      <th>total_investors</th>\n",
              "      <th>funding_duration</th>\n",
              "      <th>pseudoEstd</th>\n",
              "      <th>angel</th>\n",
              "      <th>convertible_note</th>\n",
              "      <th>debt_financing</th>\n",
              "      <th>equity_crowdfunding</th>\n",
              "      <th>grant</th>\n",
              "      <th>non_equity_assistance</th>\n",
              "      <th>private_equity</th>\n",
              "      <th>product_crowdfunding</th>\n",
              "      <th>secondary_market</th>\n",
              "      <th>seed</th>\n",
              "      <th>undisclosed</th>\n",
              "      <th>venture</th>\n",
              "      <th>A</th>\n",
              "      <th>B</th>\n",
              "      <th>C</th>\n",
              "      <th>D</th>\n",
              "      <th>E</th>\n",
              "      <th>F</th>\n",
              "      <th>G</th>\n",
              "      <th>H</th>\n",
              "      <th>cluster0</th>\n",
              "      <th>cluster1</th>\n",
              "      <th>cluster2</th>\n",
              "      <th>cluster3</th>\n",
              "      <th>cluster4</th>\n",
              "      <th>cluster5</th>\n",
              "      <th>cluster6</th>\n",
              "      <th>cluster7</th>\n",
              "      <th>cluster8</th>\n",
              "      <th>cluster9</th>\n",
              "      <th>cluster10</th>\n",
              "      <th>cluster11</th>\n",
              "      <th>cluster12</th>\n",
              "      <th>cluster13</th>\n",
              "      <th>cluster14</th>\n",
              "      <th>...</th>\n",
              "      <th>IA</th>\n",
              "      <th>ID</th>\n",
              "      <th>IL</th>\n",
              "      <th>IN</th>\n",
              "      <th>KS</th>\n",
              "      <th>KY</th>\n",
              "      <th>LA</th>\n",
              "      <th>MA</th>\n",
              "      <th>MD</th>\n",
              "      <th>ME</th>\n",
              "      <th>MI</th>\n",
              "      <th>MN</th>\n",
              "      <th>MO</th>\n",
              "      <th>MS</th>\n",
              "      <th>MT</th>\n",
              "      <th>NC</th>\n",
              "      <th>ND</th>\n",
              "      <th>NE</th>\n",
              "      <th>NH</th>\n",
              "      <th>NJ</th>\n",
              "      <th>NM</th>\n",
              "      <th>NV</th>\n",
              "      <th>NY</th>\n",
              "      <th>OH</th>\n",
              "      <th>OK</th>\n",
              "      <th>OR</th>\n",
              "      <th>PA</th>\n",
              "      <th>RI</th>\n",
              "      <th>SC</th>\n",
              "      <th>SD</th>\n",
              "      <th>TN</th>\n",
              "      <th>TX</th>\n",
              "      <th>UT</th>\n",
              "      <th>VA</th>\n",
              "      <th>VI</th>\n",
              "      <th>VT</th>\n",
              "      <th>WA</th>\n",
              "      <th>WI</th>\n",
              "      <th>WV</th>\n",
              "      <th>WY</th>\n",
              "    </tr>\n",
              "  </thead>\n",
              "  <tbody>\n",
              "    <tr>\n",
              "      <th>0</th>\n",
              "      <td>5.845098</td>\n",
              "      <td>2</td>\n",
              "      <td>0.0</td>\n",
              "      <td>7.0</td>\n",
              "      <td>649.0</td>\n",
              "      <td>0.0</td>\n",
              "      <td>0.0</td>\n",
              "      <td>0.0</td>\n",
              "      <td>0.0</td>\n",
              "      <td>0.0</td>\n",
              "      <td>0.0</td>\n",
              "      <td>0.0</td>\n",
              "      <td>0.0</td>\n",
              "      <td>0.0</td>\n",
              "      <td>1.0</td>\n",
              "      <td>0.0</td>\n",
              "      <td>1.0</td>\n",
              "      <td>1.0</td>\n",
              "      <td>0.0</td>\n",
              "      <td>0.0</td>\n",
              "      <td>0.0</td>\n",
              "      <td>0.0</td>\n",
              "      <td>0.0</td>\n",
              "      <td>0.0</td>\n",
              "      <td>0.0</td>\n",
              "      <td>0.0</td>\n",
              "      <td>0.0</td>\n",
              "      <td>0.0</td>\n",
              "      <td>0.0</td>\n",
              "      <td>0.0</td>\n",
              "      <td>0.0</td>\n",
              "      <td>0.0</td>\n",
              "      <td>0.0</td>\n",
              "      <td>0.0</td>\n",
              "      <td>0.0</td>\n",
              "      <td>0.0</td>\n",
              "      <td>0.0</td>\n",
              "      <td>0.0</td>\n",
              "      <td>0.0</td>\n",
              "      <td>0.0</td>\n",
              "      <td>...</td>\n",
              "      <td>0</td>\n",
              "      <td>0</td>\n",
              "      <td>0</td>\n",
              "      <td>0</td>\n",
              "      <td>0</td>\n",
              "      <td>0</td>\n",
              "      <td>0</td>\n",
              "      <td>0</td>\n",
              "      <td>0</td>\n",
              "      <td>0</td>\n",
              "      <td>0</td>\n",
              "      <td>0</td>\n",
              "      <td>0</td>\n",
              "      <td>0</td>\n",
              "      <td>0</td>\n",
              "      <td>0</td>\n",
              "      <td>0</td>\n",
              "      <td>0</td>\n",
              "      <td>0</td>\n",
              "      <td>0</td>\n",
              "      <td>0</td>\n",
              "      <td>0</td>\n",
              "      <td>0</td>\n",
              "      <td>0</td>\n",
              "      <td>0</td>\n",
              "      <td>0</td>\n",
              "      <td>0</td>\n",
              "      <td>0</td>\n",
              "      <td>0</td>\n",
              "      <td>0</td>\n",
              "      <td>0</td>\n",
              "      <td>0</td>\n",
              "      <td>0</td>\n",
              "      <td>0</td>\n",
              "      <td>0</td>\n",
              "      <td>0</td>\n",
              "      <td>0</td>\n",
              "      <td>0</td>\n",
              "      <td>0</td>\n",
              "      <td>0</td>\n",
              "    </tr>\n",
              "    <tr>\n",
              "      <th>1</th>\n",
              "      <td>7.316785</td>\n",
              "      <td>1</td>\n",
              "      <td>1.0</td>\n",
              "      <td>0.0</td>\n",
              "      <td>654.0</td>\n",
              "      <td>0.0</td>\n",
              "      <td>0.0</td>\n",
              "      <td>0.0</td>\n",
              "      <td>0.0</td>\n",
              "      <td>0.0</td>\n",
              "      <td>0.0</td>\n",
              "      <td>0.0</td>\n",
              "      <td>0.0</td>\n",
              "      <td>0.0</td>\n",
              "      <td>0.0</td>\n",
              "      <td>0.0</td>\n",
              "      <td>1.0</td>\n",
              "      <td>0.0</td>\n",
              "      <td>0.0</td>\n",
              "      <td>0.0</td>\n",
              "      <td>0.0</td>\n",
              "      <td>0.0</td>\n",
              "      <td>0.0</td>\n",
              "      <td>0.0</td>\n",
              "      <td>0.0</td>\n",
              "      <td>0.0</td>\n",
              "      <td>0.0</td>\n",
              "      <td>0.0</td>\n",
              "      <td>0.0</td>\n",
              "      <td>0.0</td>\n",
              "      <td>0.0</td>\n",
              "      <td>0.0</td>\n",
              "      <td>0.0</td>\n",
              "      <td>0.0</td>\n",
              "      <td>0.0</td>\n",
              "      <td>0.0</td>\n",
              "      <td>0.0</td>\n",
              "      <td>0.0</td>\n",
              "      <td>0.0</td>\n",
              "      <td>0.0</td>\n",
              "      <td>...</td>\n",
              "      <td>0</td>\n",
              "      <td>0</td>\n",
              "      <td>1</td>\n",
              "      <td>0</td>\n",
              "      <td>0</td>\n",
              "      <td>0</td>\n",
              "      <td>0</td>\n",
              "      <td>0</td>\n",
              "      <td>0</td>\n",
              "      <td>0</td>\n",
              "      <td>0</td>\n",
              "      <td>0</td>\n",
              "      <td>0</td>\n",
              "      <td>0</td>\n",
              "      <td>0</td>\n",
              "      <td>0</td>\n",
              "      <td>0</td>\n",
              "      <td>0</td>\n",
              "      <td>0</td>\n",
              "      <td>0</td>\n",
              "      <td>0</td>\n",
              "      <td>0</td>\n",
              "      <td>0</td>\n",
              "      <td>0</td>\n",
              "      <td>0</td>\n",
              "      <td>0</td>\n",
              "      <td>0</td>\n",
              "      <td>0</td>\n",
              "      <td>0</td>\n",
              "      <td>0</td>\n",
              "      <td>0</td>\n",
              "      <td>0</td>\n",
              "      <td>0</td>\n",
              "      <td>0</td>\n",
              "      <td>0</td>\n",
              "      <td>0</td>\n",
              "      <td>0</td>\n",
              "      <td>0</td>\n",
              "      <td>0</td>\n",
              "      <td>0</td>\n",
              "    </tr>\n",
              "    <tr>\n",
              "      <th>2</th>\n",
              "      <td>7.526339</td>\n",
              "      <td>4</td>\n",
              "      <td>14.0</td>\n",
              "      <td>34.0</td>\n",
              "      <td>636.0</td>\n",
              "      <td>0.0</td>\n",
              "      <td>0.0</td>\n",
              "      <td>0.0</td>\n",
              "      <td>0.0</td>\n",
              "      <td>0.0</td>\n",
              "      <td>0.0</td>\n",
              "      <td>0.0</td>\n",
              "      <td>0.0</td>\n",
              "      <td>0.0</td>\n",
              "      <td>1.0</td>\n",
              "      <td>0.0</td>\n",
              "      <td>3.0</td>\n",
              "      <td>1.0</td>\n",
              "      <td>1.0</td>\n",
              "      <td>0.0</td>\n",
              "      <td>0.0</td>\n",
              "      <td>0.0</td>\n",
              "      <td>0.0</td>\n",
              "      <td>0.0</td>\n",
              "      <td>0.0</td>\n",
              "      <td>0.0</td>\n",
              "      <td>0.0</td>\n",
              "      <td>0.0</td>\n",
              "      <td>0.0</td>\n",
              "      <td>0.0</td>\n",
              "      <td>0.0</td>\n",
              "      <td>0.0</td>\n",
              "      <td>0.0</td>\n",
              "      <td>0.0</td>\n",
              "      <td>0.0</td>\n",
              "      <td>0.0</td>\n",
              "      <td>0.0</td>\n",
              "      <td>0.0</td>\n",
              "      <td>0.0</td>\n",
              "      <td>0.0</td>\n",
              "      <td>...</td>\n",
              "      <td>0</td>\n",
              "      <td>0</td>\n",
              "      <td>0</td>\n",
              "      <td>0</td>\n",
              "      <td>0</td>\n",
              "      <td>0</td>\n",
              "      <td>0</td>\n",
              "      <td>0</td>\n",
              "      <td>0</td>\n",
              "      <td>0</td>\n",
              "      <td>0</td>\n",
              "      <td>0</td>\n",
              "      <td>0</td>\n",
              "      <td>0</td>\n",
              "      <td>0</td>\n",
              "      <td>0</td>\n",
              "      <td>0</td>\n",
              "      <td>0</td>\n",
              "      <td>0</td>\n",
              "      <td>0</td>\n",
              "      <td>0</td>\n",
              "      <td>0</td>\n",
              "      <td>0</td>\n",
              "      <td>0</td>\n",
              "      <td>0</td>\n",
              "      <td>0</td>\n",
              "      <td>0</td>\n",
              "      <td>0</td>\n",
              "      <td>0</td>\n",
              "      <td>0</td>\n",
              "      <td>0</td>\n",
              "      <td>0</td>\n",
              "      <td>0</td>\n",
              "      <td>0</td>\n",
              "      <td>0</td>\n",
              "      <td>0</td>\n",
              "      <td>0</td>\n",
              "      <td>0</td>\n",
              "      <td>0</td>\n",
              "      <td>0</td>\n",
              "    </tr>\n",
              "    <tr>\n",
              "      <th>3</th>\n",
              "      <td>6.060717</td>\n",
              "      <td>3</td>\n",
              "      <td>13.0</td>\n",
              "      <td>30.0</td>\n",
              "      <td>618.0</td>\n",
              "      <td>0.0</td>\n",
              "      <td>0.0</td>\n",
              "      <td>0.0</td>\n",
              "      <td>0.0</td>\n",
              "      <td>0.0</td>\n",
              "      <td>0.0</td>\n",
              "      <td>0.0</td>\n",
              "      <td>0.0</td>\n",
              "      <td>0.0</td>\n",
              "      <td>2.0</td>\n",
              "      <td>1.0</td>\n",
              "      <td>0.0</td>\n",
              "      <td>0.0</td>\n",
              "      <td>0.0</td>\n",
              "      <td>0.0</td>\n",
              "      <td>0.0</td>\n",
              "      <td>0.0</td>\n",
              "      <td>0.0</td>\n",
              "      <td>0.0</td>\n",
              "      <td>0.0</td>\n",
              "      <td>0.0</td>\n",
              "      <td>0.0</td>\n",
              "      <td>0.0</td>\n",
              "      <td>0.0</td>\n",
              "      <td>0.0</td>\n",
              "      <td>0.0</td>\n",
              "      <td>0.0</td>\n",
              "      <td>0.0</td>\n",
              "      <td>0.0</td>\n",
              "      <td>0.0</td>\n",
              "      <td>0.0</td>\n",
              "      <td>0.0</td>\n",
              "      <td>0.0</td>\n",
              "      <td>0.0</td>\n",
              "      <td>0.0</td>\n",
              "      <td>...</td>\n",
              "      <td>0</td>\n",
              "      <td>0</td>\n",
              "      <td>0</td>\n",
              "      <td>0</td>\n",
              "      <td>0</td>\n",
              "      <td>0</td>\n",
              "      <td>0</td>\n",
              "      <td>0</td>\n",
              "      <td>0</td>\n",
              "      <td>0</td>\n",
              "      <td>0</td>\n",
              "      <td>0</td>\n",
              "      <td>0</td>\n",
              "      <td>0</td>\n",
              "      <td>0</td>\n",
              "      <td>0</td>\n",
              "      <td>0</td>\n",
              "      <td>0</td>\n",
              "      <td>0</td>\n",
              "      <td>0</td>\n",
              "      <td>0</td>\n",
              "      <td>0</td>\n",
              "      <td>0</td>\n",
              "      <td>0</td>\n",
              "      <td>0</td>\n",
              "      <td>0</td>\n",
              "      <td>0</td>\n",
              "      <td>0</td>\n",
              "      <td>0</td>\n",
              "      <td>0</td>\n",
              "      <td>0</td>\n",
              "      <td>0</td>\n",
              "      <td>0</td>\n",
              "      <td>0</td>\n",
              "      <td>0</td>\n",
              "      <td>0</td>\n",
              "      <td>0</td>\n",
              "      <td>0</td>\n",
              "      <td>0</td>\n",
              "      <td>0</td>\n",
              "    </tr>\n",
              "    <tr>\n",
              "      <th>4</th>\n",
              "      <td>6.957633</td>\n",
              "      <td>1</td>\n",
              "      <td>0.0</td>\n",
              "      <td>0.0</td>\n",
              "      <td>639.0</td>\n",
              "      <td>0.0</td>\n",
              "      <td>0.0</td>\n",
              "      <td>0.0</td>\n",
              "      <td>1.0</td>\n",
              "      <td>0.0</td>\n",
              "      <td>0.0</td>\n",
              "      <td>0.0</td>\n",
              "      <td>0.0</td>\n",
              "      <td>0.0</td>\n",
              "      <td>0.0</td>\n",
              "      <td>0.0</td>\n",
              "      <td>0.0</td>\n",
              "      <td>0.0</td>\n",
              "      <td>0.0</td>\n",
              "      <td>0.0</td>\n",
              "      <td>0.0</td>\n",
              "      <td>0.0</td>\n",
              "      <td>0.0</td>\n",
              "      <td>0.0</td>\n",
              "      <td>0.0</td>\n",
              "      <td>0.0</td>\n",
              "      <td>0.0</td>\n",
              "      <td>0.0</td>\n",
              "      <td>0.0</td>\n",
              "      <td>0.0</td>\n",
              "      <td>0.0</td>\n",
              "      <td>0.0</td>\n",
              "      <td>0.0</td>\n",
              "      <td>0.0</td>\n",
              "      <td>0.0</td>\n",
              "      <td>0.0</td>\n",
              "      <td>0.0</td>\n",
              "      <td>0.0</td>\n",
              "      <td>0.0</td>\n",
              "      <td>0.0</td>\n",
              "      <td>...</td>\n",
              "      <td>0</td>\n",
              "      <td>0</td>\n",
              "      <td>0</td>\n",
              "      <td>0</td>\n",
              "      <td>0</td>\n",
              "      <td>0</td>\n",
              "      <td>0</td>\n",
              "      <td>0</td>\n",
              "      <td>0</td>\n",
              "      <td>0</td>\n",
              "      <td>0</td>\n",
              "      <td>0</td>\n",
              "      <td>0</td>\n",
              "      <td>0</td>\n",
              "      <td>0</td>\n",
              "      <td>1</td>\n",
              "      <td>0</td>\n",
              "      <td>0</td>\n",
              "      <td>0</td>\n",
              "      <td>0</td>\n",
              "      <td>0</td>\n",
              "      <td>0</td>\n",
              "      <td>0</td>\n",
              "      <td>0</td>\n",
              "      <td>0</td>\n",
              "      <td>0</td>\n",
              "      <td>0</td>\n",
              "      <td>0</td>\n",
              "      <td>0</td>\n",
              "      <td>0</td>\n",
              "      <td>0</td>\n",
              "      <td>0</td>\n",
              "      <td>0</td>\n",
              "      <td>0</td>\n",
              "      <td>0</td>\n",
              "      <td>0</td>\n",
              "      <td>0</td>\n",
              "      <td>0</td>\n",
              "      <td>0</td>\n",
              "      <td>0</td>\n",
              "    </tr>\n",
              "    <tr>\n",
              "      <th>...</th>\n",
              "      <td>...</td>\n",
              "      <td>...</td>\n",
              "      <td>...</td>\n",
              "      <td>...</td>\n",
              "      <td>...</td>\n",
              "      <td>...</td>\n",
              "      <td>...</td>\n",
              "      <td>...</td>\n",
              "      <td>...</td>\n",
              "      <td>...</td>\n",
              "      <td>...</td>\n",
              "      <td>...</td>\n",
              "      <td>...</td>\n",
              "      <td>...</td>\n",
              "      <td>...</td>\n",
              "      <td>...</td>\n",
              "      <td>...</td>\n",
              "      <td>...</td>\n",
              "      <td>...</td>\n",
              "      <td>...</td>\n",
              "      <td>...</td>\n",
              "      <td>...</td>\n",
              "      <td>...</td>\n",
              "      <td>...</td>\n",
              "      <td>...</td>\n",
              "      <td>...</td>\n",
              "      <td>...</td>\n",
              "      <td>...</td>\n",
              "      <td>...</td>\n",
              "      <td>...</td>\n",
              "      <td>...</td>\n",
              "      <td>...</td>\n",
              "      <td>...</td>\n",
              "      <td>...</td>\n",
              "      <td>...</td>\n",
              "      <td>...</td>\n",
              "      <td>...</td>\n",
              "      <td>...</td>\n",
              "      <td>...</td>\n",
              "      <td>...</td>\n",
              "      <td>...</td>\n",
              "      <td>...</td>\n",
              "      <td>...</td>\n",
              "      <td>...</td>\n",
              "      <td>...</td>\n",
              "      <td>...</td>\n",
              "      <td>...</td>\n",
              "      <td>...</td>\n",
              "      <td>...</td>\n",
              "      <td>...</td>\n",
              "      <td>...</td>\n",
              "      <td>...</td>\n",
              "      <td>...</td>\n",
              "      <td>...</td>\n",
              "      <td>...</td>\n",
              "      <td>...</td>\n",
              "      <td>...</td>\n",
              "      <td>...</td>\n",
              "      <td>...</td>\n",
              "      <td>...</td>\n",
              "      <td>...</td>\n",
              "      <td>...</td>\n",
              "      <td>...</td>\n",
              "      <td>...</td>\n",
              "      <td>...</td>\n",
              "      <td>...</td>\n",
              "      <td>...</td>\n",
              "      <td>...</td>\n",
              "      <td>...</td>\n",
              "      <td>...</td>\n",
              "      <td>...</td>\n",
              "      <td>...</td>\n",
              "      <td>...</td>\n",
              "      <td>...</td>\n",
              "      <td>...</td>\n",
              "      <td>...</td>\n",
              "      <td>...</td>\n",
              "      <td>...</td>\n",
              "      <td>...</td>\n",
              "      <td>...</td>\n",
              "      <td>...</td>\n",
              "    </tr>\n",
              "    <tr>\n",
              "      <th>37596</th>\n",
              "      <td>6.518514</td>\n",
              "      <td>2</td>\n",
              "      <td>11.0</td>\n",
              "      <td>6.0</td>\n",
              "      <td>662.0</td>\n",
              "      <td>0.0</td>\n",
              "      <td>0.0</td>\n",
              "      <td>0.0</td>\n",
              "      <td>0.0</td>\n",
              "      <td>0.0</td>\n",
              "      <td>0.0</td>\n",
              "      <td>0.0</td>\n",
              "      <td>0.0</td>\n",
              "      <td>0.0</td>\n",
              "      <td>2.0</td>\n",
              "      <td>0.0</td>\n",
              "      <td>0.0</td>\n",
              "      <td>0.0</td>\n",
              "      <td>0.0</td>\n",
              "      <td>0.0</td>\n",
              "      <td>0.0</td>\n",
              "      <td>0.0</td>\n",
              "      <td>0.0</td>\n",
              "      <td>0.0</td>\n",
              "      <td>0.0</td>\n",
              "      <td>0.0</td>\n",
              "      <td>0.0</td>\n",
              "      <td>0.0</td>\n",
              "      <td>0.0</td>\n",
              "      <td>0.0</td>\n",
              "      <td>0.0</td>\n",
              "      <td>0.0</td>\n",
              "      <td>0.0</td>\n",
              "      <td>1.0</td>\n",
              "      <td>0.0</td>\n",
              "      <td>0.0</td>\n",
              "      <td>0.0</td>\n",
              "      <td>0.0</td>\n",
              "      <td>0.0</td>\n",
              "      <td>0.0</td>\n",
              "      <td>...</td>\n",
              "      <td>0</td>\n",
              "      <td>0</td>\n",
              "      <td>0</td>\n",
              "      <td>0</td>\n",
              "      <td>0</td>\n",
              "      <td>0</td>\n",
              "      <td>0</td>\n",
              "      <td>0</td>\n",
              "      <td>0</td>\n",
              "      <td>0</td>\n",
              "      <td>0</td>\n",
              "      <td>0</td>\n",
              "      <td>0</td>\n",
              "      <td>0</td>\n",
              "      <td>0</td>\n",
              "      <td>0</td>\n",
              "      <td>0</td>\n",
              "      <td>0</td>\n",
              "      <td>0</td>\n",
              "      <td>0</td>\n",
              "      <td>0</td>\n",
              "      <td>0</td>\n",
              "      <td>1</td>\n",
              "      <td>0</td>\n",
              "      <td>0</td>\n",
              "      <td>0</td>\n",
              "      <td>0</td>\n",
              "      <td>0</td>\n",
              "      <td>0</td>\n",
              "      <td>0</td>\n",
              "      <td>0</td>\n",
              "      <td>0</td>\n",
              "      <td>0</td>\n",
              "      <td>0</td>\n",
              "      <td>0</td>\n",
              "      <td>0</td>\n",
              "      <td>0</td>\n",
              "      <td>0</td>\n",
              "      <td>0</td>\n",
              "      <td>0</td>\n",
              "    </tr>\n",
              "    <tr>\n",
              "      <th>37597</th>\n",
              "      <td>6.332438</td>\n",
              "      <td>2</td>\n",
              "      <td>2.0</td>\n",
              "      <td>2.0</td>\n",
              "      <td>642.0</td>\n",
              "      <td>0.0</td>\n",
              "      <td>0.0</td>\n",
              "      <td>0.0</td>\n",
              "      <td>0.0</td>\n",
              "      <td>0.0</td>\n",
              "      <td>0.0</td>\n",
              "      <td>0.0</td>\n",
              "      <td>0.0</td>\n",
              "      <td>0.0</td>\n",
              "      <td>2.0</td>\n",
              "      <td>0.0</td>\n",
              "      <td>0.0</td>\n",
              "      <td>0.0</td>\n",
              "      <td>0.0</td>\n",
              "      <td>0.0</td>\n",
              "      <td>0.0</td>\n",
              "      <td>0.0</td>\n",
              "      <td>0.0</td>\n",
              "      <td>0.0</td>\n",
              "      <td>0.0</td>\n",
              "      <td>0.0</td>\n",
              "      <td>0.0</td>\n",
              "      <td>0.0</td>\n",
              "      <td>0.0</td>\n",
              "      <td>0.0</td>\n",
              "      <td>0.0</td>\n",
              "      <td>0.0</td>\n",
              "      <td>0.0</td>\n",
              "      <td>0.0</td>\n",
              "      <td>0.0</td>\n",
              "      <td>0.0</td>\n",
              "      <td>0.0</td>\n",
              "      <td>0.0</td>\n",
              "      <td>0.0</td>\n",
              "      <td>0.0</td>\n",
              "      <td>...</td>\n",
              "      <td>0</td>\n",
              "      <td>0</td>\n",
              "      <td>0</td>\n",
              "      <td>0</td>\n",
              "      <td>0</td>\n",
              "      <td>0</td>\n",
              "      <td>0</td>\n",
              "      <td>0</td>\n",
              "      <td>0</td>\n",
              "      <td>0</td>\n",
              "      <td>0</td>\n",
              "      <td>0</td>\n",
              "      <td>0</td>\n",
              "      <td>0</td>\n",
              "      <td>0</td>\n",
              "      <td>0</td>\n",
              "      <td>0</td>\n",
              "      <td>0</td>\n",
              "      <td>0</td>\n",
              "      <td>0</td>\n",
              "      <td>0</td>\n",
              "      <td>0</td>\n",
              "      <td>1</td>\n",
              "      <td>0</td>\n",
              "      <td>0</td>\n",
              "      <td>0</td>\n",
              "      <td>0</td>\n",
              "      <td>0</td>\n",
              "      <td>0</td>\n",
              "      <td>0</td>\n",
              "      <td>0</td>\n",
              "      <td>0</td>\n",
              "      <td>0</td>\n",
              "      <td>0</td>\n",
              "      <td>0</td>\n",
              "      <td>0</td>\n",
              "      <td>0</td>\n",
              "      <td>0</td>\n",
              "      <td>0</td>\n",
              "      <td>0</td>\n",
              "    </tr>\n",
              "    <tr>\n",
              "      <th>37598</th>\n",
              "      <td>6.179121</td>\n",
              "      <td>4</td>\n",
              "      <td>2.0</td>\n",
              "      <td>23.0</td>\n",
              "      <td>609.0</td>\n",
              "      <td>1.0</td>\n",
              "      <td>0.0</td>\n",
              "      <td>0.0</td>\n",
              "      <td>0.0</td>\n",
              "      <td>0.0</td>\n",
              "      <td>0.0</td>\n",
              "      <td>0.0</td>\n",
              "      <td>0.0</td>\n",
              "      <td>0.0</td>\n",
              "      <td>2.0</td>\n",
              "      <td>0.0</td>\n",
              "      <td>1.0</td>\n",
              "      <td>0.0</td>\n",
              "      <td>0.0</td>\n",
              "      <td>0.0</td>\n",
              "      <td>0.0</td>\n",
              "      <td>0.0</td>\n",
              "      <td>0.0</td>\n",
              "      <td>0.0</td>\n",
              "      <td>0.0</td>\n",
              "      <td>1.0</td>\n",
              "      <td>0.0</td>\n",
              "      <td>0.0</td>\n",
              "      <td>0.0</td>\n",
              "      <td>0.0</td>\n",
              "      <td>0.0</td>\n",
              "      <td>0.0</td>\n",
              "      <td>0.0</td>\n",
              "      <td>0.0</td>\n",
              "      <td>0.0</td>\n",
              "      <td>0.0</td>\n",
              "      <td>0.0</td>\n",
              "      <td>0.0</td>\n",
              "      <td>0.0</td>\n",
              "      <td>0.0</td>\n",
              "      <td>...</td>\n",
              "      <td>0</td>\n",
              "      <td>0</td>\n",
              "      <td>0</td>\n",
              "      <td>0</td>\n",
              "      <td>0</td>\n",
              "      <td>0</td>\n",
              "      <td>0</td>\n",
              "      <td>1</td>\n",
              "      <td>0</td>\n",
              "      <td>0</td>\n",
              "      <td>0</td>\n",
              "      <td>0</td>\n",
              "      <td>0</td>\n",
              "      <td>0</td>\n",
              "      <td>0</td>\n",
              "      <td>0</td>\n",
              "      <td>0</td>\n",
              "      <td>0</td>\n",
              "      <td>0</td>\n",
              "      <td>0</td>\n",
              "      <td>0</td>\n",
              "      <td>0</td>\n",
              "      <td>0</td>\n",
              "      <td>0</td>\n",
              "      <td>0</td>\n",
              "      <td>0</td>\n",
              "      <td>0</td>\n",
              "      <td>0</td>\n",
              "      <td>0</td>\n",
              "      <td>0</td>\n",
              "      <td>0</td>\n",
              "      <td>0</td>\n",
              "      <td>0</td>\n",
              "      <td>0</td>\n",
              "      <td>0</td>\n",
              "      <td>0</td>\n",
              "      <td>0</td>\n",
              "      <td>0</td>\n",
              "      <td>0</td>\n",
              "      <td>0</td>\n",
              "    </tr>\n",
              "    <tr>\n",
              "      <th>37599</th>\n",
              "      <td>6.929419</td>\n",
              "      <td>1</td>\n",
              "      <td>7.0</td>\n",
              "      <td>0.0</td>\n",
              "      <td>539.0</td>\n",
              "      <td>0.0</td>\n",
              "      <td>0.0</td>\n",
              "      <td>0.0</td>\n",
              "      <td>0.0</td>\n",
              "      <td>0.0</td>\n",
              "      <td>0.0</td>\n",
              "      <td>0.0</td>\n",
              "      <td>0.0</td>\n",
              "      <td>0.0</td>\n",
              "      <td>0.0</td>\n",
              "      <td>0.0</td>\n",
              "      <td>1.0</td>\n",
              "      <td>1.0</td>\n",
              "      <td>0.0</td>\n",
              "      <td>0.0</td>\n",
              "      <td>0.0</td>\n",
              "      <td>0.0</td>\n",
              "      <td>0.0</td>\n",
              "      <td>0.0</td>\n",
              "      <td>0.0</td>\n",
              "      <td>0.0</td>\n",
              "      <td>0.0</td>\n",
              "      <td>0.0</td>\n",
              "      <td>0.0</td>\n",
              "      <td>0.0</td>\n",
              "      <td>0.0</td>\n",
              "      <td>0.0</td>\n",
              "      <td>0.0</td>\n",
              "      <td>0.0</td>\n",
              "      <td>0.0</td>\n",
              "      <td>0.0</td>\n",
              "      <td>0.0</td>\n",
              "      <td>0.0</td>\n",
              "      <td>0.0</td>\n",
              "      <td>0.0</td>\n",
              "      <td>...</td>\n",
              "      <td>0</td>\n",
              "      <td>0</td>\n",
              "      <td>0</td>\n",
              "      <td>0</td>\n",
              "      <td>0</td>\n",
              "      <td>0</td>\n",
              "      <td>0</td>\n",
              "      <td>0</td>\n",
              "      <td>0</td>\n",
              "      <td>0</td>\n",
              "      <td>0</td>\n",
              "      <td>0</td>\n",
              "      <td>0</td>\n",
              "      <td>0</td>\n",
              "      <td>0</td>\n",
              "      <td>0</td>\n",
              "      <td>0</td>\n",
              "      <td>0</td>\n",
              "      <td>0</td>\n",
              "      <td>0</td>\n",
              "      <td>0</td>\n",
              "      <td>0</td>\n",
              "      <td>0</td>\n",
              "      <td>0</td>\n",
              "      <td>0</td>\n",
              "      <td>0</td>\n",
              "      <td>0</td>\n",
              "      <td>0</td>\n",
              "      <td>0</td>\n",
              "      <td>0</td>\n",
              "      <td>0</td>\n",
              "      <td>0</td>\n",
              "      <td>0</td>\n",
              "      <td>0</td>\n",
              "      <td>0</td>\n",
              "      <td>0</td>\n",
              "      <td>0</td>\n",
              "      <td>1</td>\n",
              "      <td>0</td>\n",
              "      <td>0</td>\n",
              "    </tr>\n",
              "    <tr>\n",
              "      <th>37600</th>\n",
              "      <td>4.259880</td>\n",
              "      <td>1</td>\n",
              "      <td>1.0</td>\n",
              "      <td>0.0</td>\n",
              "      <td>660.0</td>\n",
              "      <td>0.0</td>\n",
              "      <td>0.0</td>\n",
              "      <td>0.0</td>\n",
              "      <td>0.0</td>\n",
              "      <td>0.0</td>\n",
              "      <td>0.0</td>\n",
              "      <td>0.0</td>\n",
              "      <td>0.0</td>\n",
              "      <td>0.0</td>\n",
              "      <td>1.0</td>\n",
              "      <td>0.0</td>\n",
              "      <td>0.0</td>\n",
              "      <td>0.0</td>\n",
              "      <td>0.0</td>\n",
              "      <td>0.0</td>\n",
              "      <td>0.0</td>\n",
              "      <td>0.0</td>\n",
              "      <td>0.0</td>\n",
              "      <td>0.0</td>\n",
              "      <td>0.0</td>\n",
              "      <td>0.0</td>\n",
              "      <td>0.0</td>\n",
              "      <td>0.0</td>\n",
              "      <td>0.0</td>\n",
              "      <td>0.0</td>\n",
              "      <td>0.0</td>\n",
              "      <td>0.0</td>\n",
              "      <td>0.0</td>\n",
              "      <td>0.0</td>\n",
              "      <td>0.0</td>\n",
              "      <td>0.0</td>\n",
              "      <td>0.0</td>\n",
              "      <td>0.0</td>\n",
              "      <td>0.0</td>\n",
              "      <td>0.0</td>\n",
              "      <td>...</td>\n",
              "      <td>0</td>\n",
              "      <td>0</td>\n",
              "      <td>0</td>\n",
              "      <td>0</td>\n",
              "      <td>0</td>\n",
              "      <td>0</td>\n",
              "      <td>0</td>\n",
              "      <td>0</td>\n",
              "      <td>0</td>\n",
              "      <td>0</td>\n",
              "      <td>0</td>\n",
              "      <td>0</td>\n",
              "      <td>0</td>\n",
              "      <td>0</td>\n",
              "      <td>0</td>\n",
              "      <td>0</td>\n",
              "      <td>0</td>\n",
              "      <td>0</td>\n",
              "      <td>0</td>\n",
              "      <td>0</td>\n",
              "      <td>0</td>\n",
              "      <td>0</td>\n",
              "      <td>0</td>\n",
              "      <td>0</td>\n",
              "      <td>0</td>\n",
              "      <td>0</td>\n",
              "      <td>0</td>\n",
              "      <td>0</td>\n",
              "      <td>0</td>\n",
              "      <td>0</td>\n",
              "      <td>0</td>\n",
              "      <td>0</td>\n",
              "      <td>0</td>\n",
              "      <td>0</td>\n",
              "      <td>0</td>\n",
              "      <td>0</td>\n",
              "      <td>0</td>\n",
              "      <td>0</td>\n",
              "      <td>0</td>\n",
              "      <td>0</td>\n",
              "    </tr>\n",
              "  </tbody>\n",
              "</table>\n",
              "<p>37601 rows × 129 columns</p>\n",
              "</div>"
            ],
            "text/plain": [
              "       funding_total_usd  funding_rounds  total_investors  ...  WI  WV  WY\n",
              "0               5.845098               2              0.0  ...   0   0   0\n",
              "1               7.316785               1              1.0  ...   0   0   0\n",
              "2               7.526339               4             14.0  ...   0   0   0\n",
              "3               6.060717               3             13.0  ...   0   0   0\n",
              "4               6.957633               1              0.0  ...   0   0   0\n",
              "...                  ...             ...              ...  ...  ..  ..  ..\n",
              "37596           6.518514               2             11.0  ...   0   0   0\n",
              "37597           6.332438               2              2.0  ...   0   0   0\n",
              "37598           6.179121               4              2.0  ...   0   0   0\n",
              "37599           6.929419               1              7.0  ...   1   0   0\n",
              "37600           4.259880               1              1.0  ...   0   0   0\n",
              "\n",
              "[37601 rows x 129 columns]"
            ]
          },
          "metadata": {
            "tags": []
          },
          "execution_count": 4
        }
      ]
    },
    {
      "cell_type": "markdown",
      "metadata": {
        "id": "8ZX8wcFM6CU3",
        "colab_type": "text"
      },
      "source": [
        "### Stratified train-test split\n",
        "\n",
        "**Since our data is imbalanced, simple and random train-test split may divide the data in different ratio introducing bias in the dataset. So, we used stratified train-test split so that the ratio of data will be maintained.** "
      ]
    },
    {
      "cell_type": "code",
      "metadata": {
        "id": "hl4ls37KxORc",
        "colab_type": "code",
        "colab": {}
      },
      "source": [
        "X_train, X_test, y_train, y_test = train_test_split(features,labels,test_size=0.2,\n",
        "                                                    stratify = labels,random_state=1,)"
      ],
      "execution_count": 0,
      "outputs": []
    },
    {
      "cell_type": "markdown",
      "metadata": {
        "id": "Xc99vcfo63NL",
        "colab_type": "text"
      },
      "source": [
        "**We have splitted the data in 80-20% where the training data is further splitted in acutal training and validation dataset. 10% from the training dataset is separated as validation dataset.**\n",
        "\n",
        "**Since we are using grid search cv for hyper parameter tuning, we have used predefined split which has a validation dataset in the same ratio as the test dataset. The balancing technique will be only applied in the train dataset and will check how it performs on the imbalanced validation dataset. This will reflect the true performaance for unseen test data.**"
      ]
    },
    {
      "cell_type": "code",
      "metadata": {
        "id": "sgfG1Yfk8uQl",
        "colab_type": "code",
        "colab": {}
      },
      "source": [
        "from sklearn.model_selection import PredefinedSplit\n",
        "y_trInd, y_valInd = train_test_split(y_train.index, test_size=0.1,\n",
        "                                           stratify =  y_train, random_state=1) \n",
        "split = y_train.copy()\n",
        "split[y_trInd] = -1\n",
        "split[y_valInd] = 0\n",
        "val_split = PredefinedSplit(test_fold=split)\n",
        "X_tr,X_val, y_tr, y_val = X_train[X_train.index.isin(y_trInd)], \\\n",
        "                          X_train[X_train.index.isin(y_valInd)], \\\n",
        "                          y_train[y_train.index.isin(y_trInd)],\\\n",
        "                          y_train[y_train.index.isin(y_valInd)]"
      ],
      "execution_count": 0,
      "outputs": []
    },
    {
      "cell_type": "code",
      "metadata": {
        "id": "P8ROnDGr_FWb",
        "colab_type": "code",
        "outputId": "ec090a8f-2c11-41bf-d9b0-5c65348f3d80",
        "colab": {
          "base_uri": "https://localhost:8080/",
          "height": 34
        }
      },
      "source": [
        "val_split"
      ],
      "execution_count": 7,
      "outputs": [
        {
          "output_type": "execute_result",
          "data": {
            "text/plain": [
              "PredefinedSplit(test_fold=array([-1, -1, ...,  0, -1]))"
            ]
          },
          "metadata": {
            "tags": []
          },
          "execution_count": 7
        }
      ]
    },
    {
      "cell_type": "code",
      "metadata": {
        "id": "m5r3SoISxqqy",
        "colab_type": "code",
        "colab": {}
      },
      "source": [
        "from imblearn.over_sampling import RandomOverSampler\n",
        "ros = RandomOverSampler(random_state=6)\n",
        "X_resampled, y_resampled = ros.fit_resample(X_tr, y_tr)\n",
        "XTrain, yTrain = ros.fit_resample(X_train,y_train)"
      ],
      "execution_count": 0,
      "outputs": []
    },
    {
      "cell_type": "code",
      "metadata": {
        "id": "KBtVGpxJHnxZ",
        "colab_type": "code",
        "outputId": "3b275cb4-f78b-4f9d-94f0-e7f031c47da7",
        "colab": {
          "base_uri": "https://localhost:8080/",
          "height": 34
        }
      },
      "source": [
        "X_resampled.shape"
      ],
      "execution_count": 9,
      "outputs": [
        {
          "output_type": "execute_result",
          "data": {
            "text/plain": [
              "(46562, 129)"
            ]
          },
          "metadata": {
            "tags": []
          },
          "execution_count": 9
        }
      ]
    },
    {
      "cell_type": "code",
      "metadata": {
        "id": "eNtJTFnWGIU1",
        "colab_type": "code",
        "colab": {}
      },
      "source": [
        "#preparation of training dataset after balancing\n",
        "X_combined = np.vstack([X_resampled, X_val])\n",
        "y_combined = np.hstack([y_resampled,y_val])\n",
        "split=np.concatenate([np.ones_like(y_resampled)*-1, np.zeros_like(y_val)])\n",
        "val_split_balanced = PredefinedSplit(test_fold=split)\n"
      ],
      "execution_count": 0,
      "outputs": []
    },
    {
      "cell_type": "markdown",
      "metadata": {
        "id": "dh_U0P3I-hzi",
        "colab_type": "text"
      },
      "source": [
        "## Decision Tree"
      ]
    },
    {
      "cell_type": "code",
      "metadata": {
        "id": "m0_Mick6x07-",
        "colab_type": "code",
        "outputId": "22a48547-dc40-485a-bd7e-69465d3e4a76",
        "colab": {
          "base_uri": "https://localhost:8080/",
          "height": 255
        }
      },
      "source": [
        "params = {\n",
        "    'max_depth':np.arange(8,20),\n",
        "    'max_features':[0.7,0.8,0.9,1.0],\n",
        "    'min_samples_leaf':[3,4,5,7,8,9,10]\n",
        "    #'criterion':['gini','entropy']\n",
        "}\n",
        "print(\"CLASS WEIGHT = ratio\")\n",
        "dtModelCW = DecisionTreeClassifier(criterion='gini',class_weight=None,random_state=1)\n",
        "gridSearchCW = GridSearchCV(dtModelCW, params, cv=val_split_balanced, verbose=1, n_jobs=-1,scoring='roc_auc')\n",
        "gridSearchCW.fit(X_combined, y_combined)\n",
        "print(gridSearchCW.best_estimator_)\n",
        "print('\\n')\n"
      ],
      "execution_count": 45,
      "outputs": [
        {
          "output_type": "stream",
          "text": [
            "CLASS WEIGHT = ratio\n",
            "Fitting 1 folds for each of 336 candidates, totalling 336 fits\n"
          ],
          "name": "stdout"
        },
        {
          "output_type": "stream",
          "text": [
            "[Parallel(n_jobs=-1)]: Using backend LokyBackend with 2 concurrent workers.\n",
            "[Parallel(n_jobs=-1)]: Done  46 tasks      | elapsed:   13.3s\n",
            "[Parallel(n_jobs=-1)]: Done 196 tasks      | elapsed:  1.1min\n",
            "[Parallel(n_jobs=-1)]: Done 336 out of 336 | elapsed:  2.0min finished\n"
          ],
          "name": "stderr"
        },
        {
          "output_type": "stream",
          "text": [
            "DecisionTreeClassifier(ccp_alpha=0.0, class_weight=None, criterion='gini',\n",
            "                       max_depth=8, max_features=0.7, max_leaf_nodes=None,\n",
            "                       min_impurity_decrease=0.0, min_impurity_split=None,\n",
            "                       min_samples_leaf=8, min_samples_split=2,\n",
            "                       min_weight_fraction_leaf=0.0, presort='deprecated',\n",
            "                       random_state=1, splitter='best')\n",
            "\n",
            "\n"
          ],
          "name": "stdout"
        }
      ]
    },
    {
      "cell_type": "code",
      "metadata": {
        "id": "ASmW4A9Hx-YJ",
        "colab_type": "code",
        "colab": {}
      },
      "source": [
        "!mkdir model"
      ],
      "execution_count": 0,
      "outputs": []
    },
    {
      "cell_type": "code",
      "metadata": {
        "id": "iPc7TtLMz1da",
        "colab_type": "code",
        "outputId": "272b3145-1e91-4f61-cfd1-d981f226599e",
        "colab": {
          "base_uri": "https://localhost:8080/",
          "height": 34
        }
      },
      "source": [
        "dtModel = gridSearchCW.best_estimator_\n",
        "\n",
        "#dump(dtModel, './model/decisionTreeModel.joblib')\n",
        "gridSearchCW.best_score_"
      ],
      "execution_count": 46,
      "outputs": [
        {
          "output_type": "execute_result",
          "data": {
            "text/plain": [
              "0.821482251381152"
            ]
          },
          "metadata": {
            "tags": []
          },
          "execution_count": 46
        }
      ]
    },
    {
      "cell_type": "code",
      "metadata": {
        "id": "_Zuojg8V06Mq",
        "colab_type": "code",
        "outputId": "1ea85f45-0d82-4c11-9c13-cd679b0709fc",
        "colab": {
          "base_uri": "https://localhost:8080/",
          "height": 51
        }
      },
      "source": [
        "y_predCW = dtModel.predict(X_test)\n",
        "accuracyCW = accuracy_score(y_test,y_predCW)\n",
        "print(\"The accuracy for decision tree\",accuracyCW)\n",
        "print(\"The macro f1 score for decision tree\",f1_score(y_test,y_predCW,average='macro'))\n"
      ],
      "execution_count": 47,
      "outputs": [
        {
          "output_type": "stream",
          "text": [
            "The accuracy for decision tree 0.7606701236537694\n",
            "The macro f1 score for decision tree 0.65153452685422\n"
          ],
          "name": "stdout"
        }
      ]
    },
    {
      "cell_type": "code",
      "metadata": {
        "id": "yEfO9Q2L1Mmm",
        "colab_type": "code",
        "collapsed": true,
        "outputId": "0756c6b2-2274-445c-b348-14e819b341d1",
        "colab": {
          "base_uri": "https://localhost:8080/",
          "height": 61
        }
      },
      "source": [
        "dot_data = StringIO()\n",
        "export_graphviz(dtModel, out_file=dot_data,filled=True, rounded=True,\n",
        "                special_characters=True,feature_names = features.columns.values,class_names=['0','1'])\n",
        "graph = pydotplus.graph_from_dot_data(dot_data.getvalue())\n",
        "graph.write_png('CompanySuccess_dtmodelCW.png')\n",
        "Image(graph.create_png())"
      ],
      "execution_count": 0,
      "outputs": []
    },
    {
      "cell_type": "code",
      "metadata": {
        "id": "c753wt1s1Urn",
        "colab_type": "code",
        "colab": {}
      },
      "source": [
        "impFeatures = dtModel.feature_importances_\n",
        "indices = np.argsort(-1*impFeatures)\n",
        "sortedValue = impFeatures[indices]\n",
        "sortedFeatures = features.columns.values[indices]\n"
      ],
      "execution_count": 0,
      "outputs": []
    },
    {
      "cell_type": "code",
      "metadata": {
        "id": "0wcpzHSq1-jT",
        "colab_type": "code",
        "outputId": "af7bc563-f2f4-4f27-ef8a-a679a3874c83",
        "colab": {
          "base_uri": "https://localhost:8080/",
          "height": 360
        }
      },
      "source": [
        "sns.barplot(x=sortedFeatures[:30], y=sortedValue[:30])\n",
        "plt.xticks(rotation=90)\n",
        "plt.yscale('log')"
      ],
      "execution_count": 49,
      "outputs": [
        {
          "output_type": "display_data",
          "data": {
            "image/png": "[encoded data removed]",
            "text/plain": [
              "<Figure size 432x288 with 1 Axes>"
            ]
          },
          "metadata": {
            "tags": [],
            "needs_background": "light"
          }
        }
      ]
    },
    {
      "cell_type": "code",
      "metadata": {
        "id": "pt7tLOiv45Kk",
        "colab_type": "code",
        "outputId": "9c086cb7-dcc4-44d5-ec95-9539c6e8ee89",
        "colab": {
          "base_uri": "https://localhost:8080/",
          "height": 316
        }
      },
      "source": [
        "print('\\nConfusion matrix for  decision tree')\n",
        "#print(confusion_matrix(y_test, y_predCW))\n",
        "cnf_matrix = confusion_matrix(y_test, y_predCW)\n",
        "group_names = ['True Neg','False Pos','False Neg','True Pos']\n",
        "group_counts = [\"{0:0.0f}\".format(value) for value in\n",
        "                cnf_matrix.flatten()]\n",
        "labels = [f\"{v1}\\n{v2}\" for v1, v2 in\n",
        "          zip(group_names,group_counts)]\n",
        "labels = np.asarray(labels).reshape(2,2)\n",
        "sns.heatmap(cnf_matrix, annot=labels, fmt='', cmap='Blues')\n"
      ],
      "execution_count": 50,
      "outputs": [
        {
          "output_type": "stream",
          "text": [
            "\n",
            "Confusion matrix for  decision tree\n"
          ],
          "name": "stdout"
        },
        {
          "output_type": "execute_result",
          "data": {
            "text/plain": [
              "<matplotlib.axes._subplots.AxesSubplot at 0x7f1ff02f5198>"
            ]
          },
          "metadata": {
            "tags": []
          },
          "execution_count": 50
        },
        {
          "output_type": "display_data",
          "data": {
            "image/png": "[encoded data removed]",
            "text/plain": [
              "<Figure size 432x288 with 2 Axes>"
            ]
          },
          "metadata": {
            "tags": [],
            "needs_background": "light"
          }
        }
      ]
    },
    {
      "cell_type": "code",
      "metadata": {
        "id": "NfA-sLda6Gf6",
        "colab_type": "code",
        "outputId": "788299b2-5874-4e3a-deae-8356a91d37d9",
        "colab": {
          "base_uri": "https://localhost:8080/",
          "height": 187
        }
      },
      "source": [
        "print('Classification Report for  decision tree')\n",
        "reportCW = classification_report(y_test,y_predCW)\n",
        "print(reportCW)"
      ],
      "execution_count": 51,
      "outputs": [
        {
          "output_type": "stream",
          "text": [
            "Classification Report for  decision tree\n",
            "              precision    recall  f1-score   support\n",
            "\n",
            "           0       0.94      0.77      0.85      6468\n",
            "           1       0.33      0.72      0.46      1053\n",
            "\n",
            "    accuracy                           0.76      7521\n",
            "   macro avg       0.64      0.74      0.65      7521\n",
            "weighted avg       0.86      0.76      0.79      7521\n",
            "\n"
          ],
          "name": "stdout"
        }
      ]
    },
    {
      "cell_type": "code",
      "metadata": {
        "id": "UL5R7uYuMnJW",
        "colab_type": "code",
        "outputId": "214c43d7-4259-4320-bdd5-01efd45b52e6",
        "colab": {
          "base_uri": "https://localhost:8080/",
          "height": 295
        }
      },
      "source": [
        "probs = dtModel.predict_proba(X_test)\n",
        "for i in range(0,2):\n",
        "    preds = probs[:,i]\n",
        "    fpr, tpr, threshold = roc_curve(y_test, preds, pos_label=i)\n",
        "    roc_auc =auc(fpr, tpr)\n",
        "    plt.plot(fpr, tpr, label = 'class {}, AUC {}'.format(i,roc_auc.round(2)))\n",
        "\n",
        "plt.title('Receiver Operating Characteristic of balanced classifier')    \n",
        "plt.legend(loc = 'lower right')\n",
        "plt.plot([0, 1], [0, 1],'r--')\n",
        "plt.xlim([0, 1])\n",
        "plt.ylim([0, 1])\n",
        "plt.ylabel('True Positive Rate')\n",
        "plt.xlabel('False Positive Rate')\n",
        "plt.show()\n"
      ],
      "execution_count": 52,
      "outputs": [
        {
          "output_type": "display_data",
          "data": {
            "image/png": "[encoded data removed]",
            "text/plain": [
              "<Figure size 432x288 with 1 Axes>"
            ]
          },
          "metadata": {
            "tags": [],
            "needs_background": "light"
          }
        }
      ]
    },
    {
      "cell_type": "markdown",
      "metadata": {
        "id": "5wfQOltLE0NV",
        "colab_type": "text"
      },
      "source": [
        "## Random Forest"
      ]
    },
    {
      "cell_type": "code",
      "metadata": {
        "id": "ZyTOocP-AFIb",
        "colab_type": "code",
        "colab": {}
      },
      "source": [
        "from sklearn.ensemble import RandomForestClassifier"
      ],
      "execution_count": 0,
      "outputs": []
    },
    {
      "cell_type": "code",
      "metadata": {
        "id": "rG-ajh3xFB1_",
        "colab_type": "code",
        "outputId": "300d97e8-5f65-4d39-8d00-fe704634d953",
        "colab": {
          "base_uri": "https://localhost:8080/",
          "height": 204
        }
      },
      "source": [
        "params = {\n",
        "    'max_depth':[22, 25, 27],\n",
        "    'max_features':[0.8,0.9,1],\n",
        "    'n_estimators':[125, 150]\n",
        "}\n",
        "\n",
        "rfClassifier = RandomForestClassifier(n_jobs=-1,class_weight=None)\n",
        "gridSearch = GridSearchCV(rfClassifier, params,verbose=1,n_jobs=-1,cv=val_split_balanced,scoring='roc_auc')\n",
        "gridSearch.fit(X_combined, y_combined)\n",
        "print(gridSearch.best_estimator_)"
      ],
      "execution_count": 54,
      "outputs": [
        {
          "output_type": "stream",
          "text": [
            "Fitting 1 folds for each of 18 candidates, totalling 18 fits\n"
          ],
          "name": "stdout"
        },
        {
          "output_type": "stream",
          "text": [
            "[Parallel(n_jobs=-1)]: Using backend LokyBackend with 2 concurrent workers.\n",
            "[Parallel(n_jobs=-1)]: Done  18 out of  18 | elapsed:  8.6min finished\n"
          ],
          "name": "stderr"
        },
        {
          "output_type": "stream",
          "text": [
            "RandomForestClassifier(bootstrap=True, ccp_alpha=0.0, class_weight=None,\n",
            "                       criterion='gini', max_depth=25, max_features=0.8,\n",
            "                       max_leaf_nodes=None, max_samples=None,\n",
            "                       min_impurity_decrease=0.0, min_impurity_split=None,\n",
            "                       min_samples_leaf=1, min_samples_split=2,\n",
            "                       min_weight_fraction_leaf=0.0, n_estimators=150,\n",
            "                       n_jobs=-1, oob_score=False, random_state=None, verbose=0,\n",
            "                       warm_start=False)\n"
          ],
          "name": "stdout"
        }
      ]
    },
    {
      "cell_type": "code",
      "metadata": {
        "id": "0MPnukLtFHWU",
        "colab_type": "code",
        "outputId": "52453eb5-6ef6-4f01-c713-cf1bd93fdb03",
        "colab": {
          "base_uri": "https://localhost:8080/",
          "height": 34
        }
      },
      "source": [
        "rfModel = gridSearch.best_estimator_\n",
        "gridSearch.best_score_\n",
        "#dump(rfModel, './model/randomForestModel.joblib')"
      ],
      "execution_count": 55,
      "outputs": [
        {
          "output_type": "execute_result",
          "data": {
            "text/plain": [
              "0.8294771867743614"
            ]
          },
          "metadata": {
            "tags": []
          },
          "execution_count": 55
        }
      ]
    },
    {
      "cell_type": "code",
      "metadata": {
        "id": "fI7aFuhGJwuh",
        "colab_type": "code",
        "outputId": "829bcdb1-1527-40bf-9d65-e1c7af2f5b71",
        "colab": {
          "base_uri": "https://localhost:8080/",
          "height": 51
        }
      },
      "source": [
        "rfTestPredict = rfModel.predict(X_test)\n",
        "testScore = accuracy_score(y_test, rfTestPredict)\n",
        "print(\"the accuracy score for testing set : {}\".format(testScore))\n",
        "print(\"The macro f1 score for random forest\",f1_score(y_test,rfTestPredict,average='macro'))\n"
      ],
      "execution_count": 56,
      "outputs": [
        {
          "output_type": "stream",
          "text": [
            "the accuracy score for testing set : 0.8337986969817843\n",
            "The macro f1 score for random forest 0.6886716311861332\n"
          ],
          "name": "stdout"
        }
      ]
    },
    {
      "cell_type": "code",
      "metadata": {
        "id": "fFSfmOciOlqo",
        "colab_type": "code",
        "outputId": "116f21ac-989b-40ff-8b99-7ba31c33393d",
        "colab": {
          "base_uri": "https://localhost:8080/",
          "height": 316
        }
      },
      "source": [
        "cnf_matrix = confusion_matrix(y_test, rfTestPredict)\n",
        "print('\\nConfusion matrix for  rf classifier')\n",
        "group_names = ['True Neg','False Pos','False Neg','True Pos']\n",
        "group_counts = [\"{0:0.0f}\".format(value) for value in\n",
        "                cnf_matrix.flatten()]\n",
        "labels = [f\"{v1}\\n{v2}\" for v1, v2 in\n",
        "          zip(group_names,group_counts)]\n",
        "labels = np.asarray(labels).reshape(2,2)\n",
        "sns.heatmap(cnf_matrix, annot=labels, fmt='', cmap='Blues')\n"
      ],
      "execution_count": 57,
      "outputs": [
        {
          "output_type": "stream",
          "text": [
            "\n",
            "Confusion matrix for  rf classifier\n"
          ],
          "name": "stdout"
        },
        {
          "output_type": "execute_result",
          "data": {
            "text/plain": [
              "<matplotlib.axes._subplots.AxesSubplot at 0x7f1ff044a908>"
            ]
          },
          "metadata": {
            "tags": []
          },
          "execution_count": 57
        },
        {
          "output_type": "display_data",
          "data": {
            "image/png": "[encoded data removed]",
            "text/plain": [
              "<Figure size 432x288 with 2 Axes>"
            ]
          },
          "metadata": {
            "tags": [],
            "needs_background": "light"
          }
        }
      ]
    },
    {
      "cell_type": "code",
      "metadata": {
        "id": "VPtEdYSuOsiz",
        "colab_type": "code",
        "outputId": "cf228b72-1818-4363-bf0f-2309bb4cb277",
        "colab": {
          "base_uri": "https://localhost:8080/",
          "height": 187
        }
      },
      "source": [
        "print('Classification Report for rf class')\n",
        "rfReport = classification_report(y_test,rfTestPredict)\n",
        "print(rfReport)"
      ],
      "execution_count": 58,
      "outputs": [
        {
          "output_type": "stream",
          "text": [
            "Classification Report for rf class\n",
            "              precision    recall  f1-score   support\n",
            "\n",
            "           0       0.92      0.88      0.90      6468\n",
            "           1       0.43      0.54      0.48      1053\n",
            "\n",
            "    accuracy                           0.83      7521\n",
            "   macro avg       0.67      0.71      0.69      7521\n",
            "weighted avg       0.85      0.83      0.84      7521\n",
            "\n"
          ],
          "name": "stdout"
        }
      ]
    },
    {
      "cell_type": "code",
      "metadata": {
        "id": "_xaMc9C8eMuX",
        "colab_type": "code",
        "outputId": "748b8d04-62ed-4799-e8da-901b70a0f951",
        "colab": {
          "base_uri": "https://localhost:8080/",
          "height": 295
        }
      },
      "source": [
        "probs = rfModel.predict_proba(X_test)\n",
        "for i in range(0,2):\n",
        "    preds = probs[:,i]\n",
        "    fpr, tpr, threshold = roc_curve(y_test, preds, pos_label=i)\n",
        "    roc_auc =auc(fpr, tpr)\n",
        "    plt.plot(fpr, tpr, label = 'class {}, AUC {}'.format(i,roc_auc.round(2)))\n",
        "\n",
        "plt.title('Receiver Operating Characteristic of balanced classifier')    \n",
        "plt.legend(loc = 'lower right')\n",
        "plt.plot([0, 1], [0, 1],'r--')\n",
        "plt.xlim([0, 1])\n",
        "plt.ylim([0, 1])\n",
        "plt.ylabel('True Positive Rate')\n",
        "plt.xlabel('False Positive Rate')\n",
        "plt.show()\n"
      ],
      "execution_count": 59,
      "outputs": [
        {
          "output_type": "display_data",
          "data": {
            "image/png": "[encoded data removed]",
            "text/plain": [
              "<Figure size 432x288 with 1 Axes>"
            ]
          },
          "metadata": {
            "tags": [],
            "needs_background": "light"
          }
        }
      ]
    },
    {
      "cell_type": "code",
      "metadata": {
        "id": "UDJw2Y3AutG7",
        "colab_type": "code",
        "colab": {}
      },
      "source": [
        "# ind = np.where((fpr>0.29) & (fpr<=0.3))\n",
        "# print(threshold[ind])\n",
        "# print(fpr[ind])\n",
        "# print(tpr[ind])\n",
        "# tPred = rfModel.predict_proba(X_test)[:,1]\n",
        "# tPred = (tPred > 0.21).astype('int')\n",
        "# confusion_matrix(y_test, tPred)"
      ],
      "execution_count": 0,
      "outputs": []
    },
    {
      "cell_type": "code",
      "metadata": {
        "id": "H8Awq9n0PyTd",
        "colab_type": "code",
        "colab": {}
      },
      "source": [
        "impFeatures = rfModel.feature_importances_\n",
        "indices = np.argsort(-1*impFeatures)\n",
        "sortedValue = impFeatures[indices]\n",
        "sortedFeatures = features.columns.values[indices]"
      ],
      "execution_count": 0,
      "outputs": []
    },
    {
      "cell_type": "code",
      "metadata": {
        "id": "chx3dmHmQEBt",
        "colab_type": "code",
        "outputId": "d43b20bd-b6f6-4655-e490-0e5c1ee18b4f",
        "colab": {
          "base_uri": "https://localhost:8080/",
          "height": 360
        }
      },
      "source": [
        "sns.barplot(x=sortedFeatures[:30], y=sortedValue[:30])\n",
        "plt.xticks(rotation=90)\n",
        "plt.show()"
      ],
      "execution_count": 62,
      "outputs": [
        {
          "output_type": "display_data",
          "data": {
            "image/png": "[encoded data removed]",
            "text/plain": [
              "<Figure size 432x288 with 1 Axes>"
            ]
          },
          "metadata": {
            "tags": [],
            "needs_background": "light"
          }
        }
      ]
    },
    {
      "cell_type": "markdown",
      "metadata": {
        "id": "uLRBIyIQE50D",
        "colab_type": "text"
      },
      "source": [
        "**Normalization**"
      ]
    },
    {
      "cell_type": "code",
      "metadata": {
        "id": "E2RBR9VIZ9p5",
        "colab_type": "code",
        "colab": {}
      },
      "source": [
        "from sklearn.preprocessing import MinMaxScaler\n",
        "#normalization of continuous data\n",
        "scaler = MinMaxScaler()\n",
        "normalizedXTrain = scaler.fit_transform(X_combined)\n",
        "normalizedXTest = scaler.transform(X_test)\n",
        "#print(normalizedXTrain)"
      ],
      "execution_count": 0,
      "outputs": []
    },
    {
      "cell_type": "markdown",
      "metadata": {
        "id": "H41HEuVQE-lc",
        "colab_type": "text"
      },
      "source": [
        "## Logistic Regression"
      ]
    },
    {
      "cell_type": "code",
      "metadata": {
        "id": "yZn56yt-QL0C",
        "colab_type": "code",
        "colab": {}
      },
      "source": [
        "from sklearn.linear_model import LogisticRegression"
      ],
      "execution_count": 0,
      "outputs": []
    },
    {
      "cell_type": "code",
      "metadata": {
        "id": "AE9QoqrNRGJs",
        "colab_type": "code",
        "outputId": "d100876a-afb5-4cf4-f791-1c3be306642c",
        "colab": {
          "base_uri": "https://localhost:8080/",
          "height": 136
        }
      },
      "source": [
        "params = {\n",
        "    'C':[10, 100,150, 200]\n",
        "}\n",
        "\n",
        "logisticModel = LogisticRegression(random_state=6,verbose=0,n_jobs=-1)\n",
        "gridSearch = GridSearchCV(logisticModel, params,verbose=3,n_jobs=-1,cv=val_split_balanced,scoring='roc_auc')\n",
        "gridSearch.fit(normalizedXTrain, y_combined)\n",
        "print(gridSearch.best_estimator_)"
      ],
      "execution_count": 15,
      "outputs": [
        {
          "output_type": "stream",
          "text": [
            "Fitting 1 folds for each of 4 candidates, totalling 4 fits\n"
          ],
          "name": "stdout"
        },
        {
          "output_type": "stream",
          "text": [
            "[Parallel(n_jobs=-1)]: Using backend LokyBackend with 2 concurrent workers.\n",
            "[Parallel(n_jobs=-1)]: Done   4 out of   4 | elapsed:    7.6s finished\n"
          ],
          "name": "stderr"
        },
        {
          "output_type": "stream",
          "text": [
            "LogisticRegression(C=100, class_weight=None, dual=False, fit_intercept=True,\n",
            "                   intercept_scaling=1, l1_ratio=None, max_iter=100,\n",
            "                   multi_class='auto', n_jobs=-1, penalty='l2', random_state=6,\n",
            "                   solver='lbfgs', tol=0.0001, verbose=0, warm_start=False)\n"
          ],
          "name": "stdout"
        }
      ]
    },
    {
      "cell_type": "code",
      "metadata": {
        "id": "v3lOIWDhVTIx",
        "colab_type": "code",
        "outputId": "b9a365d5-b3b0-4b19-ce63-e6444da5a50e",
        "colab": {
          "base_uri": "https://localhost:8080/",
          "height": 34
        }
      },
      "source": [
        "lrModel = gridSearch.best_estimator_\n",
        "gridSearch.best_score_\n",
        "#dump(lrModel, './model/logisticRegressionModel.joblib')"
      ],
      "execution_count": 16,
      "outputs": [
        {
          "output_type": "execute_result",
          "data": {
            "text/plain": [
              "0.8282665841540977"
            ]
          },
          "metadata": {
            "tags": []
          },
          "execution_count": 16
        }
      ]
    },
    {
      "cell_type": "code",
      "metadata": {
        "id": "IQ8ubr8dVfb3",
        "colab_type": "code",
        "outputId": "6c4bb236-c3e9-4906-a62a-59a460782074",
        "colab": {
          "base_uri": "https://localhost:8080/",
          "height": 51
        }
      },
      "source": [
        "lrTestPredict = lrModel.predict(normalizedXTest)\n",
        "lrTestScore = accuracy_score(y_test, lrTestPredict)\n",
        "print(\"the accuracy score for testing set : {}\".format(lrTestScore))\n",
        "print(\"The macro f1 score for logistic regression\",f1_score(y_test,lrTestPredict,average='macro'))\n"
      ],
      "execution_count": 18,
      "outputs": [
        {
          "output_type": "stream",
          "text": [
            "the accuracy score for testing set : 0.7718388512165936\n",
            "The macro f1 score for logistic regression 0.6595762572378749\n"
          ],
          "name": "stdout"
        }
      ]
    },
    {
      "cell_type": "code",
      "metadata": {
        "id": "SZo_VxvzVI9j",
        "colab_type": "code",
        "outputId": "b0d309b7-32e7-4583-b4d5-406df818108b",
        "colab": {
          "base_uri": "https://localhost:8080/",
          "height": 318
        }
      },
      "source": [
        "cnf_matrix = confusion_matrix(y_test, lrTestPredict)\n",
        "print('\\nConfusion matrix for  LR classifier')\n",
        "group_names = ['True Neg','False Pos','False Neg','True Pos']\n",
        "group_counts = [\"{0:0.0f}\".format(value) for value in\n",
        "                cnf_matrix.flatten()]\n",
        "labels = [f\"{v1}\\n{v2}\" for v1, v2 in\n",
        "          zip(group_names,group_counts)]\n",
        "labels = np.asarray(labels).reshape(2,2)\n",
        "sns.heatmap(cnf_matrix, annot=labels, fmt='', cmap='Blues')\n"
      ],
      "execution_count": 19,
      "outputs": [
        {
          "output_type": "stream",
          "text": [
            "\n",
            "Confusion matrix for  LR classifier\n"
          ],
          "name": "stdout"
        },
        {
          "output_type": "execute_result",
          "data": {
            "text/plain": [
              "<matplotlib.axes._subplots.AxesSubplot at 0x7f5f677cf0f0>"
            ]
          },
          "metadata": {
            "tags": []
          },
          "execution_count": 19
        },
        {
          "output_type": "display_data",
          "data": {
            "image/png": "[encoded data removed]",
            "text/plain": [
              "<Figure size 432x288 with 2 Axes>"
            ]
          },
          "metadata": {
            "tags": [],
            "needs_background": "light"
          }
        }
      ]
    },
    {
      "cell_type": "code",
      "metadata": {
        "id": "oEmiBRB2Wn24",
        "colab_type": "code",
        "outputId": "dd43015e-f379-4d24-f966-02b75d3bfbe2",
        "colab": {
          "base_uri": "https://localhost:8080/",
          "height": 187
        }
      },
      "source": [
        "print('Classification Report for lr class')\n",
        "lrReport = classification_report(y_test,lrTestPredict)\n",
        "print(lrReport)"
      ],
      "execution_count": 20,
      "outputs": [
        {
          "output_type": "stream",
          "text": [
            "Classification Report for lr class\n",
            "              precision    recall  f1-score   support\n",
            "\n",
            "           0       0.94      0.78      0.86      6468\n",
            "           1       0.35      0.71      0.46      1053\n",
            "\n",
            "    accuracy                           0.77      7521\n",
            "   macro avg       0.64      0.74      0.66      7521\n",
            "weighted avg       0.86      0.77      0.80      7521\n",
            "\n"
          ],
          "name": "stdout"
        }
      ]
    },
    {
      "cell_type": "code",
      "metadata": {
        "id": "VAhB0KJF0-og",
        "colab_type": "code",
        "outputId": "4c3a633a-7f55-43e2-9d55-b951656f048d",
        "colab": {
          "base_uri": "https://localhost:8080/",
          "height": 295
        }
      },
      "source": [
        "probs = lrModel.predict_proba(normalizedXTest)\n",
        "for i in range(0,2):\n",
        "    preds = probs[:,i]\n",
        "    fpr, tpr, threshold = roc_curve(y_test, preds, pos_label=i)\n",
        "    roc_auc =auc(fpr, tpr)\n",
        "    plt.plot(fpr, tpr, label = 'class {}, AUC {}'.format(i,roc_auc.round(2)))\n",
        "\n",
        "plt.title('Receiver Operating Characteristic of balanced classifier')    \n",
        "plt.legend(loc = 'lower right')\n",
        "plt.plot([0, 1], [0, 1],'r--')\n",
        "plt.xlim([0, 1])\n",
        "plt.ylim([0, 1])\n",
        "plt.ylabel('True Positive Rate')\n",
        "plt.xlabel('False Positive Rate')\n",
        "plt.show()\n"
      ],
      "execution_count": 21,
      "outputs": [
        {
          "output_type": "display_data",
          "data": {
            "image/png": "[encoded data removed]",
            "text/plain": [
              "<Figure size 432x288 with 1 Axes>"
            ]
          },
          "metadata": {
            "tags": [],
            "needs_background": "light"
          }
        }
      ]
    },
    {
      "cell_type": "code",
      "metadata": {
        "id": "EJLXUj9nSEne",
        "colab_type": "code",
        "colab": {}
      },
      "source": [
        "from collections import OrderedDict\n",
        "posEg = OrderedDict()\n",
        "negEg = OrderedDict()\n",
        "indicesForPosEg = np.argsort(-1*lrModel.coef_)[:,0:30][0]\n",
        "for i in indicesForPosEg[0:30]:\n",
        "    posEg[features.columns.values[i]] = lrModel.coef_[0,i]\n",
        "indicesForNegEg = np.argsort(lrModel.coef_)[:,0:30][0]\n",
        "for i  in indicesForNegEg[0:30]:\n",
        "    negEg[features.columns.values[i]] = -1*lrModel.coef_[0,i]"
      ],
      "execution_count": 0,
      "outputs": []
    },
    {
      "cell_type": "code",
      "metadata": {
        "id": "982HgBlHSoIu",
        "colab_type": "code",
        "outputId": "5d216c11-6901-4eca-80c6-7e298087d5b2",
        "colab": {
          "base_uri": "https://localhost:8080/",
          "height": 671
        }
      },
      "source": [
        "fig, ax = plt.subplots(figsize=(10,10))\n",
        "x=list(posEg.keys())\n",
        "\n",
        "y = list(posEg.values())\n",
        "\n",
        "sns.barplot(x=x, y=y,orient='v')\n",
        "plt.yscale('log')\n",
        "plt.xticks(rotation=90)\n",
        "plt.show()"
      ],
      "execution_count": 261,
      "outputs": [
        {
          "output_type": "display_data",
          "data": {
            "image/png": "[encoded data removed]",
            "text/plain": [
              "<Figure size 720x720 with 1 Axes>"
            ]
          },
          "metadata": {
            "tags": [],
            "needs_background": "light"
          }
        }
      ]
    },
    {
      "cell_type": "code",
      "metadata": {
        "id": "BOa7sb3RrNSO",
        "colab_type": "code",
        "colab": {
          "base_uri": "https://localhost:8080/",
          "height": 695
        },
        "outputId": "16029379-5ea5-430e-fe37-e0c0b28608b0"
      },
      "source": [
        "fig, ax = plt.subplots(figsize=(10,10))\n",
        "x=list(negEg.keys())\n",
        "\n",
        "y = list(negEg.values())\n",
        "\n",
        "sns.barplot(x=x, y=y,orient='v')\n",
        "plt.yscale('log')\n",
        "plt.xticks(rotation=90)\n",
        "plt.show()"
      ],
      "execution_count": 262,
      "outputs": [
        {
          "output_type": "display_data",
          "data": {
            "image/png": "[encoded data removed]",
            "text/plain": [
              "<Figure size 720x720 with 1 Axes>"
            ]
          },
          "metadata": {
            "tags": [],
            "needs_background": "light"
          }
        }
      ]
    },
    {
      "cell_type": "code",
      "metadata": {
        "id": "OUnA89XvY-lq",
        "colab_type": "code",
        "colab": {}
      },
      "source": [
        "import tensorflow as tf\n",
        "from tensorflow.keras.models import Sequential, Model\n",
        "from tensorflow.keras.layers import *\n",
        "from tensorflow.keras.optimizers import SGD, Adam\n",
        "from tensorflow.keras.activations import relu\n",
        "from tensorflow.keras.regularizers import l2\n",
        "from tensorflow.keras.constraints import max_norm\n",
        "from tensorflow.keras import backend as K\n",
        "from tensorflow.keras.utils import to_categorical\n"
      ],
      "execution_count": 0,
      "outputs": []
    },
    {
      "cell_type": "code",
      "metadata": {
        "id": "tm8Mjsb-Zp2_",
        "colab_type": "code",
        "colab": {}
      },
      "source": [
        "from keras import backend as K\n",
        "\n",
        "def recall_m(y_true, y_pred):\n",
        "    y_pred = y_pred[:,1]\n",
        "    y_true = y_true[:,1]\n",
        "    true_positives = K.sum(K.round(K.clip(y_true * y_pred, 0, 1)))\n",
        "    possible_positives = K.sum(K.round(K.clip(y_true, 0, 1)))\n",
        "    recall = true_positives / (possible_positives + K.epsilon())\n",
        "    return recall\n",
        "\n",
        "def precision_m(y_true, y_pred):\n",
        "    y_pred = y_pred[:,1]\n",
        "    y_true = y_true[:,1]\n",
        "    true_positives = K.sum(K.round(K.clip(y_true * y_pred, 0, 1)))\n",
        "    predicted_positives = K.sum(K.round(K.clip(y_pred, 0, 1)))\n",
        "    precision = true_positives / (predicted_positives + K.epsilon())\n",
        "    return precision\n",
        "\n",
        "def f1_m(y_true, y_pred):\n",
        "    #y_pred = y_pred[:,1]\n",
        "    #y_true = y_true[:,1]\n",
        "    precision = precision_m(y_true, y_pred)\n",
        "    recall = recall_m(y_true, y_pred)\n",
        "    return 2*((precision*recall)/(precision+recall+K.epsilon()))\n"
      ],
      "execution_count": 0,
      "outputs": []
    },
    {
      "cell_type": "markdown",
      "metadata": {
        "id": "VeanyjpcFMgw",
        "colab_type": "text"
      },
      "source": [
        "## Multilayer Perceptron"
      ]
    },
    {
      "cell_type": "code",
      "metadata": {
        "id": "2UkalNNNZt59",
        "colab_type": "code",
        "colab": {}
      },
      "source": [
        "def funcBaseModel(shape):\n",
        "\n",
        "  inputLayer = Input(shape=(shape,))\n",
        "  hiddenLayer1 = Dense(256, activation='relu')(inputLayer)\n",
        "  hiddenLayer1 = Dropout(0.5)(hiddenLayer1)\n",
        "  # hiddenLayer2 = Dense(128, activation='relu')(hiddenLayer1)\n",
        "  # hiddenLayer2 = Dropout(0.3)(hiddenLayer2)\n",
        "  hiddenLayer3 = Dense(128, activation='relu')(hiddenLayer1)\n",
        "  hiddenLayer3 = Dropout(0.5)(hiddenLayer3)\n",
        "  hiddenLayer4 = Dense(32, activation='relu')(hiddenLayer3)\n",
        "  hiddenLayer4 = Dropout(0.2)(hiddenLayer4)\n",
        "  outputLayer = Dense(2, activation='softmax')(hiddenLayer4)\n",
        "  #sgd = SGD(lr=0.001, decay=1e-6, momentum=0.9, nesterov=True)\n",
        "  funcModel = Model(inputs = inputLayer, outputs = outputLayer)\n",
        "  funcModel.compile(loss = 'categorical_crossentropy', optimizer='adam', metrics=['acc', precision_m, recall_m, f1_m])\n",
        "  return funcModel"
      ],
      "execution_count": 0,
      "outputs": []
    },
    {
      "cell_type": "code",
      "metadata": {
        "id": "iKuiVL8achZn",
        "colab_type": "code",
        "outputId": "fa517fb6-8710-40ab-a961-08f0d172ee64",
        "colab": {
          "base_uri": "https://localhost:8080/",
          "height": 425
        }
      },
      "source": [
        "model = funcBaseModel(129)\n",
        "model.summary()"
      ],
      "execution_count": 203,
      "outputs": [
        {
          "output_type": "stream",
          "text": [
            "Model: \"model_18\"\n",
            "_________________________________________________________________\n",
            "Layer (type)                 Output Shape              Param #   \n",
            "=================================================================\n",
            "input_19 (InputLayer)        [(None, 129)]             0         \n",
            "_________________________________________________________________\n",
            "dense_74 (Dense)             (None, 256)               33280     \n",
            "_________________________________________________________________\n",
            "dropout_38 (Dropout)         (None, 256)               0         \n",
            "_________________________________________________________________\n",
            "dense_75 (Dense)             (None, 128)               32896     \n",
            "_________________________________________________________________\n",
            "dropout_39 (Dropout)         (None, 128)               0         \n",
            "_________________________________________________________________\n",
            "dense_76 (Dense)             (None, 32)                4128      \n",
            "_________________________________________________________________\n",
            "dropout_40 (Dropout)         (None, 32)                0         \n",
            "_________________________________________________________________\n",
            "dense_77 (Dense)             (None, 2)                 66        \n",
            "=================================================================\n",
            "Total params: 70,370\n",
            "Trainable params: 70,370\n",
            "Non-trainable params: 0\n",
            "_________________________________________________________________\n"
          ],
          "name": "stdout"
        }
      ]
    },
    {
      "cell_type": "code",
      "metadata": {
        "id": "FatF5HjWczy4",
        "colab_type": "code",
        "colab": {}
      },
      "source": [
        "from sklearn.preprocessing import MinMaxScaler\n",
        "#normalization of continuous data\n",
        "scaler = MinMaxScaler()\n",
        "normalizedXTrain = scaler.fit_transform(XTrain)\n",
        "normalizedXTest = scaler.transform(X_test)\n",
        "y_trainEncoded = to_categorical(yTrain, 2)\n",
        "y_testEncoded = to_categorical(y_test,2)"
      ],
      "execution_count": 0,
      "outputs": []
    },
    {
      "cell_type": "code",
      "metadata": {
        "id": "nYsmashPcb3C",
        "colab_type": "code",
        "outputId": "3169decb-0bed-41e0-baee-5d7d425ad61d",
        "colab": {
          "base_uri": "https://localhost:8080/",
          "height": 1000
        }
      },
      "source": [
        "\n",
        "model.fit(normalizedXTrain, y_trainEncoded, batch_size=64, epochs=30, validation_data=(normalizedXTest, y_testEncoded))"
      ],
      "execution_count": 205,
      "outputs": [
        {
          "output_type": "stream",
          "text": [
            "Epoch 1/30\n",
            "809/809 [==============================] - 4s 5ms/step - loss: 0.5998 - acc: 0.6736 - precision_m: 0.6611 - recall_m: 0.7052 - f1_m: 0.6772 - val_loss: 0.5947 - val_acc: 0.6519 - val_precision_m: 0.2535 - val_recall_m: 0.7735 - val_f1_m: 0.3755\n",
            "Epoch 2/30\n",
            "809/809 [==============================] - 4s 5ms/step - loss: 0.5451 - acc: 0.7252 - precision_m: 0.7089 - recall_m: 0.7676 - f1_m: 0.7330 - val_loss: 0.5440 - val_acc: 0.7028 - val_precision_m: 0.2821 - val_recall_m: 0.7186 - val_f1_m: 0.3967\n",
            "Epoch 3/30\n",
            "809/809 [==============================] - 4s 5ms/step - loss: 0.5205 - acc: 0.7405 - precision_m: 0.7206 - recall_m: 0.7879 - f1_m: 0.7492 - val_loss: 0.5156 - val_acc: 0.7011 - val_precision_m: 0.2809 - val_recall_m: 0.7239 - val_f1_m: 0.3971\n",
            "Epoch 4/30\n",
            "809/809 [==============================] - 4s 5ms/step - loss: 0.5027 - acc: 0.7530 - precision_m: 0.7315 - recall_m: 0.8030 - f1_m: 0.7621 - val_loss: 0.5159 - val_acc: 0.7149 - val_precision_m: 0.2879 - val_recall_m: 0.7030 - val_f1_m: 0.4001\n",
            "Epoch 5/30\n",
            "809/809 [==============================] - 4s 5ms/step - loss: 0.4878 - acc: 0.7602 - precision_m: 0.7390 - recall_m: 0.8059 - f1_m: 0.7680 - val_loss: 0.5254 - val_acc: 0.7116 - val_precision_m: 0.2890 - val_recall_m: 0.7277 - val_f1_m: 0.4059\n",
            "Epoch 6/30\n",
            "809/809 [==============================] - 4s 5ms/step - loss: 0.4775 - acc: 0.7679 - precision_m: 0.7430 - recall_m: 0.8187 - f1_m: 0.7762 - val_loss: 0.5133 - val_acc: 0.7232 - val_precision_m: 0.2931 - val_recall_m: 0.6925 - val_f1_m: 0.4028\n",
            "Epoch 7/30\n",
            "809/809 [==============================] - 4s 5ms/step - loss: 0.4656 - acc: 0.7756 - precision_m: 0.7540 - recall_m: 0.8188 - f1_m: 0.7822 - val_loss: 0.5012 - val_acc: 0.7358 - val_precision_m: 0.2998 - val_recall_m: 0.6713 - val_f1_m: 0.4055\n",
            "Epoch 8/30\n",
            "809/809 [==============================] - 4s 5ms/step - loss: 0.4585 - acc: 0.7825 - precision_m: 0.7601 - recall_m: 0.8267 - f1_m: 0.7891 - val_loss: 0.5359 - val_acc: 0.7161 - val_precision_m: 0.2901 - val_recall_m: 0.7103 - val_f1_m: 0.4038\n",
            "Epoch 9/30\n",
            "809/809 [==============================] - 4s 5ms/step - loss: 0.4536 - acc: 0.7838 - precision_m: 0.7621 - recall_m: 0.8264 - f1_m: 0.7902 - val_loss: 0.5414 - val_acc: 0.7173 - val_precision_m: 0.2915 - val_recall_m: 0.7061 - val_f1_m: 0.4052\n",
            "Epoch 10/30\n",
            "809/809 [==============================] - 4s 5ms/step - loss: 0.4436 - acc: 0.7887 - precision_m: 0.7661 - recall_m: 0.8320 - f1_m: 0.7951 - val_loss: 0.5301 - val_acc: 0.7248 - val_precision_m: 0.2960 - val_recall_m: 0.6931 - val_f1_m: 0.4075\n",
            "Epoch 11/30\n",
            "809/809 [==============================] - 4s 5ms/step - loss: 0.4368 - acc: 0.7933 - precision_m: 0.7698 - recall_m: 0.8381 - f1_m: 0.7997 - val_loss: 0.5077 - val_acc: 0.7508 - val_precision_m: 0.3149 - val_recall_m: 0.6629 - val_f1_m: 0.4188\n",
            "Epoch 12/30\n",
            "809/809 [==============================] - 4s 5ms/step - loss: 0.4310 - acc: 0.7967 - precision_m: 0.7750 - recall_m: 0.8384 - f1_m: 0.8027 - val_loss: 0.5326 - val_acc: 0.7290 - val_precision_m: 0.3017 - val_recall_m: 0.7012 - val_f1_m: 0.4142\n",
            "Epoch 13/30\n",
            "809/809 [==============================] - 4s 5ms/step - loss: 0.4272 - acc: 0.7993 - precision_m: 0.7756 - recall_m: 0.8432 - f1_m: 0.8054 - val_loss: 0.5570 - val_acc: 0.7140 - val_precision_m: 0.2919 - val_recall_m: 0.7208 - val_f1_m: 0.4081\n",
            "Epoch 14/30\n",
            "809/809 [==============================] - 4s 5ms/step - loss: 0.4211 - acc: 0.8026 - precision_m: 0.7800 - recall_m: 0.8435 - f1_m: 0.8077 - val_loss: 0.5597 - val_acc: 0.7213 - val_precision_m: 0.2925 - val_recall_m: 0.6902 - val_f1_m: 0.4032\n",
            "Epoch 15/30\n",
            "809/809 [==============================] - 4s 5ms/step - loss: 0.4174 - acc: 0.8038 - precision_m: 0.7792 - recall_m: 0.8492 - f1_m: 0.8099 - val_loss: 0.5282 - val_acc: 0.7503 - val_precision_m: 0.3149 - val_recall_m: 0.6617 - val_f1_m: 0.4180\n",
            "Epoch 16/30\n",
            "809/809 [==============================] - 4s 5ms/step - loss: 0.4122 - acc: 0.8064 - precision_m: 0.7816 - recall_m: 0.8503 - f1_m: 0.8122 - val_loss: 0.5466 - val_acc: 0.7363 - val_precision_m: 0.3062 - val_recall_m: 0.6976 - val_f1_m: 0.4169\n",
            "Epoch 17/30\n",
            "809/809 [==============================] - 4s 5ms/step - loss: 0.4071 - acc: 0.8096 - precision_m: 0.7856 - recall_m: 0.8525 - f1_m: 0.8153 - val_loss: 0.5519 - val_acc: 0.7366 - val_precision_m: 0.3024 - val_recall_m: 0.6713 - val_f1_m: 0.4085\n",
            "Epoch 18/30\n",
            "809/809 [==============================] - 4s 5ms/step - loss: 0.4057 - acc: 0.8109 - precision_m: 0.7869 - recall_m: 0.8528 - f1_m: 0.8160 - val_loss: 0.5338 - val_acc: 0.7597 - val_precision_m: 0.3208 - val_recall_m: 0.6492 - val_f1_m: 0.4202\n",
            "Epoch 19/30\n",
            "809/809 [==============================] - 4s 5ms/step - loss: 0.4027 - acc: 0.8120 - precision_m: 0.7869 - recall_m: 0.8551 - f1_m: 0.8174 - val_loss: 0.5413 - val_acc: 0.7581 - val_precision_m: 0.3194 - val_recall_m: 0.6385 - val_f1_m: 0.4162\n",
            "Epoch 20/30\n",
            "809/809 [==============================] - 4s 5ms/step - loss: 0.3987 - acc: 0.8155 - precision_m: 0.7880 - recall_m: 0.8625 - f1_m: 0.8212 - val_loss: 0.5349 - val_acc: 0.7576 - val_precision_m: 0.3163 - val_recall_m: 0.6365 - val_f1_m: 0.4140\n",
            "Epoch 21/30\n",
            "809/809 [==============================] - 4s 5ms/step - loss: 0.3947 - acc: 0.8186 - precision_m: 0.7943 - recall_m: 0.8601 - f1_m: 0.8235 - val_loss: 0.5550 - val_acc: 0.7475 - val_precision_m: 0.3112 - val_recall_m: 0.6564 - val_f1_m: 0.4128\n",
            "Epoch 22/30\n",
            "809/809 [==============================] - 4s 5ms/step - loss: 0.3906 - acc: 0.8188 - precision_m: 0.7937 - recall_m: 0.8617 - f1_m: 0.8239 - val_loss: 0.5562 - val_acc: 0.7499 - val_precision_m: 0.3126 - val_recall_m: 0.6511 - val_f1_m: 0.4129\n",
            "Epoch 23/30\n",
            "809/809 [==============================] - 4s 5ms/step - loss: 0.3873 - acc: 0.8211 - precision_m: 0.7961 - recall_m: 0.8639 - f1_m: 0.8265 - val_loss: 0.5749 - val_acc: 0.7468 - val_precision_m: 0.3087 - val_recall_m: 0.6515 - val_f1_m: 0.4104\n",
            "Epoch 24/30\n",
            "809/809 [==============================] - 4s 5ms/step - loss: 0.3873 - acc: 0.8194 - precision_m: 0.7939 - recall_m: 0.8641 - f1_m: 0.8250 - val_loss: 0.5629 - val_acc: 0.7627 - val_precision_m: 0.3219 - val_recall_m: 0.6259 - val_f1_m: 0.4160\n",
            "Epoch 25/30\n",
            "809/809 [==============================] - 4s 5ms/step - loss: 0.3826 - acc: 0.8229 - precision_m: 0.7960 - recall_m: 0.8680 - f1_m: 0.8282 - val_loss: 0.5634 - val_acc: 0.7713 - val_precision_m: 0.3280 - val_recall_m: 0.6140 - val_f1_m: 0.4184\n",
            "Epoch 26/30\n",
            "809/809 [==============================] - 4s 5ms/step - loss: 0.3802 - acc: 0.8247 - precision_m: 0.7970 - recall_m: 0.8711 - f1_m: 0.8300 - val_loss: 0.5578 - val_acc: 0.7680 - val_precision_m: 0.3268 - val_recall_m: 0.6224 - val_f1_m: 0.4199\n",
            "Epoch 27/30\n",
            "809/809 [==============================] - 4s 5ms/step - loss: 0.3789 - acc: 0.8254 - precision_m: 0.7983 - recall_m: 0.8715 - f1_m: 0.8311 - val_loss: 0.5709 - val_acc: 0.7593 - val_precision_m: 0.3199 - val_recall_m: 0.6321 - val_f1_m: 0.4153\n",
            "Epoch 28/30\n",
            "809/809 [==============================] - 4s 5ms/step - loss: 0.3734 - acc: 0.8296 - precision_m: 0.8033 - recall_m: 0.8740 - f1_m: 0.8348 - val_loss: 0.5851 - val_acc: 0.7516 - val_precision_m: 0.3133 - val_recall_m: 0.6495 - val_f1_m: 0.4140\n",
            "Epoch 29/30\n",
            "809/809 [==============================] - 4s 5ms/step - loss: 0.3737 - acc: 0.8283 - precision_m: 0.8019 - recall_m: 0.8732 - f1_m: 0.8337 - val_loss: 0.5692 - val_acc: 0.7704 - val_precision_m: 0.3303 - val_recall_m: 0.6212 - val_f1_m: 0.4217\n",
            "Epoch 30/30\n",
            "809/809 [==============================] - 4s 5ms/step - loss: 0.3700 - acc: 0.8286 - precision_m: 0.8017 - recall_m: 0.8732 - f1_m: 0.8336 - val_loss: 0.5769 - val_acc: 0.7648 - val_precision_m: 0.3259 - val_recall_m: 0.6354 - val_f1_m: 0.4224\n"
          ],
          "name": "stdout"
        },
        {
          "output_type": "execute_result",
          "data": {
            "text/plain": [
              "<tensorflow.python.keras.callbacks.History at 0x7f5ea87f70b8>"
            ]
          },
          "metadata": {
            "tags": []
          },
          "execution_count": 205
        }
      ]
    },
    {
      "cell_type": "code",
      "metadata": {
        "id": "JADNykKxcmnb",
        "colab_type": "code",
        "outputId": "3d5cfef7-d941-48bf-e334-44871dd7abfd",
        "colab": {
          "base_uri": "https://localhost:8080/",
          "height": 34
        }
      },
      "source": [
        "modelPrediction = (model.predict(normalizedXTest)>.5).astype('int')\n",
        "score = accuracy_score(y_test, modelPrediction[:,1])\n",
        "print(score)"
      ],
      "execution_count": 206,
      "outputs": [
        {
          "output_type": "stream",
          "text": [
            "0.7647919159686212\n"
          ],
          "name": "stdout"
        }
      ]
    },
    {
      "cell_type": "code",
      "metadata": {
        "id": "nQyd5fB3e06l",
        "colab_type": "code",
        "outputId": "832eb6b4-9eb2-4346-858d-b2b1ca14c988",
        "colab": {
          "base_uri": "https://localhost:8080/",
          "height": 317
        }
      },
      "source": [
        "#print(confusion_matrix(y_test, modelPrediction))\n",
        "cnf_matrix = confusion_matrix(y_test, modelPrediction[:,1])\n",
        "print('\\nConfusion matrix for  MLP')\n",
        "group_names = ['True Neg','False Pos','False Neg','True Pos']\n",
        "group_counts = [\"{0:0.0f}\".format(value) for value in\n",
        "                cnf_matrix.flatten()]\n",
        "labels = [f\"{v1}\\n{v2}\" for v1, v2 in\n",
        "          zip(group_names,group_counts)]\n",
        "labels = np.asarray(labels).reshape(2,2)\n",
        "sns.heatmap(cnf_matrix, annot=labels, fmt='', cmap='Blues')\n"
      ],
      "execution_count": 208,
      "outputs": [
        {
          "output_type": "stream",
          "text": [
            "\n",
            "Confusion matrix for  MLP\n"
          ],
          "name": "stdout"
        },
        {
          "output_type": "execute_result",
          "data": {
            "text/plain": [
              "<matplotlib.axes._subplots.AxesSubplot at 0x7f5ea88c7400>"
            ]
          },
          "metadata": {
            "tags": []
          },
          "execution_count": 208
        },
        {
          "output_type": "display_data",
          "data": {
            "image/png": "[encoded data removed]",
            "text/plain": [
              "<Figure size 432x288 with 2 Axes>"
            ]
          },
          "metadata": {
            "tags": [],
            "needs_background": "light"
          }
        }
      ]
    },
    {
      "cell_type": "code",
      "metadata": {
        "id": "_nJgfBJDK6H3",
        "colab_type": "code",
        "colab": {
          "base_uri": "https://localhost:8080/",
          "height": 295
        },
        "outputId": "9d8d1684-0b0c-4c49-90e3-e6f2acae9bc6"
      },
      "source": [
        "probs = model.predict(normalizedXTest)\n",
        "for i in range(0,2):\n",
        "    preds = probs[:,i]\n",
        "    fpr, tpr, threshold = roc_curve(y_test, preds, pos_label=i)\n",
        "    roc_auc =auc(fpr, tpr)\n",
        "    plt.plot(fpr, tpr, label = 'class {}, AUC {}'.format(i,roc_auc.round(2)))\n",
        "\n",
        "plt.title('Receiver Operating Characteristic of balanced classifier')    \n",
        "plt.legend(loc = 'lower right')\n",
        "plt.plot([0, 1], [0, 1],'r--')\n",
        "plt.xlim([0, 1])\n",
        "plt.ylim([0, 1])\n",
        "plt.ylabel('True Positive Rate')\n",
        "plt.xlabel('False Positive Rate')\n",
        "plt.show()"
      ],
      "execution_count": 209,
      "outputs": [
        {
          "output_type": "display_data",
          "data": {
            "image/png": "[encoded data removed]",
            "text/plain": [
              "<Figure size 432x288 with 1 Axes>"
            ]
          },
          "metadata": {
            "tags": [],
            "needs_background": "light"
          }
        }
      ]
    },
    {
      "cell_type": "code",
      "metadata": {
        "id": "TC8puBtae6bw",
        "colab_type": "code",
        "outputId": "b727f6ed-0f7d-40f8-cbd9-86bc61dd33f7",
        "colab": {
          "base_uri": "https://localhost:8080/",
          "height": 170
        }
      },
      "source": [
        "print(classification_report(y_test, modelPrediction[:,1]))\n"
      ],
      "execution_count": 210,
      "outputs": [
        {
          "output_type": "stream",
          "text": [
            "              precision    recall  f1-score   support\n",
            "\n",
            "           0       0.93      0.78      0.85      6468\n",
            "           1       0.33      0.64      0.43      1053\n",
            "\n",
            "    accuracy                           0.76      7521\n",
            "   macro avg       0.63      0.71      0.64      7521\n",
            "weighted avg       0.85      0.76      0.79      7521\n",
            "\n"
          ],
          "name": "stdout"
        }
      ]
    },
    {
      "cell_type": "markdown",
      "metadata": {
        "id": "TpHYLn_rHSeK",
        "colab_type": "text"
      },
      "source": [
        "## ResNet"
      ]
    },
    {
      "cell_type": "code",
      "metadata": {
        "id": "VkzOuS0SxrpN",
        "colab_type": "code",
        "colab": {}
      },
      "source": [
        "def resNetSkips(numOfSkip, inputBlock, nodes=128, dropOut=0.5):\n",
        "  if numOfSkip == 1:\n",
        "    resNet = Dense(nodes)(inputBlock)\n",
        "    resNet = BatchNormalization()(resNet)\n",
        "    resNet = Activation('relu')(resNet)\n",
        "    outputBlock = tf.keras.layers.add([resNet, inputBlock])\n",
        "    return outputBlock\n",
        "\n",
        "  if numOfSkip == 2:\n",
        "    resNet = Dense(nodes)(inputBlock)\n",
        "    resNet = BatchNormalization()(resNet)\n",
        "    resNet = Activation('relu')(resNet)\n",
        "    resNet = Dropout(dropOut)(resNet)\n",
        "    resNet = Dense(nodes)(resNet)\n",
        "    resNet = BatchNormalization()(resNet)\n",
        "    outputBlock = tf.keras.layers.add([resNet, inputBlock])\n",
        "    return outputBlock\n",
        "  \n",
        "  if numOfSkip == 3:\n",
        "    resNet = Dense(nodes)(inputBlock)\n",
        "    resNet = BatchNormalization()(resNet)\n",
        "    resNet = Activation('relu')(resNet)\n",
        "    resNet = Dropout(dropOut)(resNet)\n",
        "    resNet = Dense(nodes)(resNet)\n",
        "    resNet = BatchNormalization()(resNet)\n",
        "    resNet = Activation('relu')(resNet)\n",
        "    resNet = Dropout(dropOut)(resNet)\n",
        "    resNet = Dense(nodes)(resNet)\n",
        "    resNet = BatchNormalization()(resNet)\n",
        "    outputBlock = tf.keras.layers.add([resNet, inputBlock])\n",
        "    return outputBlock\n",
        "\n",
        "def getResNetModel(inputShape, residualBlockDepths, skipConnection, numNodes=128, learningRate=0.001, dropOut=0.5):\n",
        "  inputs = Input(shape=(inputShape,), name='img')\n",
        "  resNetwork = Dense(numNodes, activation='relu')(inputs)\n",
        "  blockOutput = Dense(numNodes, activation='relu')(resNetwork)\n",
        "\n",
        "  for i in range(residualBlockDepths):\n",
        "    blockOutput = resNetSkips(skipConnection, blockOutput, numNodes, dropOut)\n",
        "\n",
        "  \n",
        "  resNetwork = Dense(numNodes, activation='relu')(blockOutput)\n",
        "  resNetwork = Dropout(dropOut)(resNetwork)\n",
        "  outputs = Dense(2, activation='softmax')(resNetwork)\n",
        "\n",
        "  resNetworkModel = tf.keras.Model(inputs = inputs, outputs = outputs, name='resnetwork')\n",
        "  resNetworkModel.compile(loss = 'categorical_crossentropy', optimizer='adam', metrics=['acc',f1_m,precision_m, recall_m])\n",
        "  return resNetworkModel\n",
        "  "
      ],
      "execution_count": 0,
      "outputs": []
    },
    {
      "cell_type": "code",
      "metadata": {
        "id": "UWw95ydk2AZQ",
        "colab_type": "code",
        "outputId": "c00ac8f3-d143-41aa-b9d2-5e1c8c28aa15",
        "colab": {
          "base_uri": "https://localhost:8080/",
          "height": 1000
        }
      },
      "source": [
        "resNetModel = getResNetModel(129, 3, 2, 256, 0.5)\n",
        "resNetModel.summary()"
      ],
      "execution_count": 214,
      "outputs": [
        {
          "output_type": "stream",
          "text": [
            "Model: \"resnetwork\"\n",
            "__________________________________________________________________________________________________\n",
            "Layer (type)                    Output Shape         Param #     Connected to                     \n",
            "==================================================================================================\n",
            "img (InputLayer)                [(None, 129)]        0                                            \n",
            "__________________________________________________________________________________________________\n",
            "dense_88 (Dense)                (None, 256)          33280       img[0][0]                        \n",
            "__________________________________________________________________________________________________\n",
            "dense_89 (Dense)                (None, 256)          65792       dense_88[0][0]                   \n",
            "__________________________________________________________________________________________________\n",
            "dense_90 (Dense)                (None, 256)          65792       dense_89[0][0]                   \n",
            "__________________________________________________________________________________________________\n",
            "batch_normalization_6 (BatchNor (None, 256)          1024        dense_90[0][0]                   \n",
            "__________________________________________________________________________________________________\n",
            "activation_3 (Activation)       (None, 256)          0           batch_normalization_6[0][0]      \n",
            "__________________________________________________________________________________________________\n",
            "dropout_45 (Dropout)            (None, 256)          0           activation_3[0][0]               \n",
            "__________________________________________________________________________________________________\n",
            "dense_91 (Dense)                (None, 256)          65792       dropout_45[0][0]                 \n",
            "__________________________________________________________________________________________________\n",
            "batch_normalization_7 (BatchNor (None, 256)          1024        dense_91[0][0]                   \n",
            "__________________________________________________________________________________________________\n",
            "add_3 (Add)                     (None, 256)          0           batch_normalization_7[0][0]      \n",
            "                                                                 dense_89[0][0]                   \n",
            "__________________________________________________________________________________________________\n",
            "dense_92 (Dense)                (None, 256)          65792       add_3[0][0]                      \n",
            "__________________________________________________________________________________________________\n",
            "batch_normalization_8 (BatchNor (None, 256)          1024        dense_92[0][0]                   \n",
            "__________________________________________________________________________________________________\n",
            "activation_4 (Activation)       (None, 256)          0           batch_normalization_8[0][0]      \n",
            "__________________________________________________________________________________________________\n",
            "dropout_46 (Dropout)            (None, 256)          0           activation_4[0][0]               \n",
            "__________________________________________________________________________________________________\n",
            "dense_93 (Dense)                (None, 256)          65792       dropout_46[0][0]                 \n",
            "__________________________________________________________________________________________________\n",
            "batch_normalization_9 (BatchNor (None, 256)          1024        dense_93[0][0]                   \n",
            "__________________________________________________________________________________________________\n",
            "add_4 (Add)                     (None, 256)          0           batch_normalization_9[0][0]      \n",
            "                                                                 add_3[0][0]                      \n",
            "__________________________________________________________________________________________________\n",
            "dense_94 (Dense)                (None, 256)          65792       add_4[0][0]                      \n",
            "__________________________________________________________________________________________________\n",
            "batch_normalization_10 (BatchNo (None, 256)          1024        dense_94[0][0]                   \n",
            "__________________________________________________________________________________________________\n",
            "activation_5 (Activation)       (None, 256)          0           batch_normalization_10[0][0]     \n",
            "__________________________________________________________________________________________________\n",
            "dropout_47 (Dropout)            (None, 256)          0           activation_5[0][0]               \n",
            "__________________________________________________________________________________________________\n",
            "dense_95 (Dense)                (None, 256)          65792       dropout_47[0][0]                 \n",
            "__________________________________________________________________________________________________\n",
            "batch_normalization_11 (BatchNo (None, 256)          1024        dense_95[0][0]                   \n",
            "__________________________________________________________________________________________________\n",
            "add_5 (Add)                     (None, 256)          0           batch_normalization_11[0][0]     \n",
            "                                                                 add_4[0][0]                      \n",
            "__________________________________________________________________________________________________\n",
            "dense_96 (Dense)                (None, 256)          65792       add_5[0][0]                      \n",
            "__________________________________________________________________________________________________\n",
            "dropout_48 (Dropout)            (None, 256)          0           dense_96[0][0]                   \n",
            "__________________________________________________________________________________________________\n",
            "dense_97 (Dense)                (None, 2)            514         dropout_48[0][0]                 \n",
            "==================================================================================================\n",
            "Total params: 566,274\n",
            "Trainable params: 563,202\n",
            "Non-trainable params: 3,072\n",
            "__________________________________________________________________________________________________\n"
          ],
          "name": "stdout"
        }
      ]
    },
    {
      "cell_type": "code",
      "metadata": {
        "id": "POQjJBuY3xk5",
        "colab_type": "code",
        "outputId": "8f9c8e62-9709-4c6f-e4d8-50cc9588127a",
        "colab": {
          "base_uri": "https://localhost:8080/",
          "height": 1000
        }
      },
      "source": [
        "resNetModel.fit(normalizedXTrain, y_trainEncoded, batch_size=64, epochs=30, validation_data=(normalizedXTest, y_testEncoded))"
      ],
      "execution_count": 215,
      "outputs": [
        {
          "output_type": "stream",
          "text": [
            "Epoch 1/30\n",
            "809/809 [==============================] - 9s 11ms/step - loss: 0.6981 - acc: 0.6699 - f1_m: 0.6716 - precision_m: 0.6642 - recall_m: 0.6893 - val_loss: 0.4665 - val_acc: 0.7603 - val_f1_m: 0.4111 - val_precision_m: 0.3167 - val_recall_m: 0.6222\n",
            "Epoch 2/30\n",
            "809/809 [==============================] - 8s 10ms/step - loss: 0.5210 - acc: 0.7432 - f1_m: 0.7543 - precision_m: 0.7214 - recall_m: 0.7998 - val_loss: 0.5392 - val_acc: 0.7195 - val_f1_m: 0.4121 - val_precision_m: 0.2956 - val_recall_m: 0.7238\n",
            "Epoch 3/30\n",
            "809/809 [==============================] - 8s 10ms/step - loss: 0.4925 - acc: 0.7627 - f1_m: 0.7736 - precision_m: 0.7375 - recall_m: 0.8229 - val_loss: 0.5753 - val_acc: 0.6930 - val_f1_m: 0.4043 - val_precision_m: 0.2816 - val_recall_m: 0.7621\n",
            "Epoch 4/30\n",
            "809/809 [==============================] - 8s 10ms/step - loss: 0.4644 - acc: 0.7818 - f1_m: 0.7923 - precision_m: 0.7530 - recall_m: 0.8448 - val_loss: 0.4858 - val_acc: 0.7385 - val_f1_m: 0.4178 - val_precision_m: 0.3071 - val_recall_m: 0.6977\n",
            "Epoch 5/30\n",
            "809/809 [==============================] - 8s 10ms/step - loss: 0.4469 - acc: 0.7928 - f1_m: 0.8025 - precision_m: 0.7630 - recall_m: 0.8550 - val_loss: 0.4671 - val_acc: 0.7917 - val_f1_m: 0.4424 - val_precision_m: 0.3540 - val_recall_m: 0.6271\n",
            "Epoch 6/30\n",
            "809/809 [==============================] - 8s 10ms/step - loss: 0.4270 - acc: 0.8057 - f1_m: 0.8152 - precision_m: 0.7747 - recall_m: 0.8685 - val_loss: 0.4666 - val_acc: 0.7558 - val_f1_m: 0.4329 - val_precision_m: 0.3233 - val_recall_m: 0.6982\n",
            "Epoch 7/30\n",
            "809/809 [==============================] - 8s 10ms/step - loss: 0.4091 - acc: 0.8158 - f1_m: 0.8248 - precision_m: 0.7828 - recall_m: 0.8799 - val_loss: 0.5116 - val_acc: 0.7909 - val_f1_m: 0.4489 - val_precision_m: 0.3602 - val_recall_m: 0.6292\n",
            "Epoch 8/30\n",
            "809/809 [==============================] - 8s 10ms/step - loss: 0.3970 - acc: 0.8215 - f1_m: 0.8302 - precision_m: 0.7875 - recall_m: 0.8859 - val_loss: 0.5559 - val_acc: 0.8010 - val_f1_m: 0.4456 - val_precision_m: 0.3698 - val_recall_m: 0.5946\n",
            "Epoch 9/30\n",
            "809/809 [==============================] - 8s 10ms/step - loss: 0.3815 - acc: 0.8304 - f1_m: 0.8388 - precision_m: 0.7960 - recall_m: 0.8932 - val_loss: 0.5472 - val_acc: 0.7827 - val_f1_m: 0.4333 - val_precision_m: 0.3456 - val_recall_m: 0.6137\n",
            "Epoch 10/30\n",
            "809/809 [==============================] - 8s 10ms/step - loss: 0.3700 - acc: 0.8344 - f1_m: 0.8425 - precision_m: 0.7998 - recall_m: 0.8974 - val_loss: 0.5067 - val_acc: 0.7589 - val_f1_m: 0.4352 - val_precision_m: 0.3286 - val_recall_m: 0.6815\n",
            "Epoch 11/30\n",
            "809/809 [==============================] - 8s 10ms/step - loss: 0.3575 - acc: 0.8413 - f1_m: 0.8487 - precision_m: 0.8067 - recall_m: 0.9028 - val_loss: 0.5463 - val_acc: 0.7284 - val_f1_m: 0.4206 - val_precision_m: 0.3048 - val_recall_m: 0.7224\n",
            "Epoch 12/30\n",
            "809/809 [==============================] - 8s 10ms/step - loss: 0.3455 - acc: 0.8468 - f1_m: 0.8539 - precision_m: 0.8101 - recall_m: 0.9094 - val_loss: 0.5805 - val_acc: 0.7346 - val_f1_m: 0.4206 - val_precision_m: 0.3082 - val_recall_m: 0.7082\n",
            "Epoch 13/30\n",
            "809/809 [==============================] - 8s 10ms/step - loss: 0.3343 - acc: 0.8522 - f1_m: 0.8581 - precision_m: 0.8193 - recall_m: 0.9074 - val_loss: 0.5477 - val_acc: 0.7645 - val_f1_m: 0.4374 - val_precision_m: 0.3341 - val_recall_m: 0.6758\n",
            "Epoch 14/30\n",
            "809/809 [==============================] - 8s 10ms/step - loss: 0.3238 - acc: 0.8568 - f1_m: 0.8633 - precision_m: 0.8185 - recall_m: 0.9196 - val_loss: 0.6089 - val_acc: 0.7651 - val_f1_m: 0.4335 - val_precision_m: 0.3331 - val_recall_m: 0.6613\n",
            "Epoch 15/30\n",
            "809/809 [==============================] - 8s 10ms/step - loss: 0.3160 - acc: 0.8612 - f1_m: 0.8666 - precision_m: 0.8253 - recall_m: 0.9182 - val_loss: 0.5340 - val_acc: 0.7853 - val_f1_m: 0.4367 - val_precision_m: 0.3492 - val_recall_m: 0.6201\n",
            "Epoch 16/30\n",
            "809/809 [==============================] - 8s 10ms/step - loss: 0.3050 - acc: 0.8671 - f1_m: 0.8724 - precision_m: 0.8317 - recall_m: 0.9232 - val_loss: 0.6634 - val_acc: 0.7551 - val_f1_m: 0.4292 - val_precision_m: 0.3238 - val_recall_m: 0.6783\n",
            "Epoch 17/30\n",
            "809/809 [==============================] - 8s 10ms/step - loss: 0.2962 - acc: 0.8698 - f1_m: 0.8754 - precision_m: 0.8332 - recall_m: 0.9273 - val_loss: 0.5988 - val_acc: 0.8016 - val_f1_m: 0.4440 - val_precision_m: 0.3713 - val_recall_m: 0.5908\n",
            "Epoch 18/30\n",
            "809/809 [==============================] - 8s 10ms/step - loss: 0.2874 - acc: 0.8741 - f1_m: 0.8788 - precision_m: 0.8398 - recall_m: 0.9271 - val_loss: 0.6556 - val_acc: 0.7560 - val_f1_m: 0.4214 - val_precision_m: 0.3210 - val_recall_m: 0.6541\n",
            "Epoch 19/30\n",
            "809/809 [==============================] - 8s 10ms/step - loss: 0.2821 - acc: 0.8771 - f1_m: 0.8820 - precision_m: 0.8430 - recall_m: 0.9302 - val_loss: 0.6089 - val_acc: 0.7910 - val_f1_m: 0.4377 - val_precision_m: 0.3575 - val_recall_m: 0.6018\n",
            "Epoch 20/30\n",
            "809/809 [==============================] - 8s 10ms/step - loss: 0.2756 - acc: 0.8793 - f1_m: 0.8837 - precision_m: 0.8438 - recall_m: 0.9332 - val_loss: 0.7501 - val_acc: 0.7621 - val_f1_m: 0.4220 - val_precision_m: 0.3255 - val_recall_m: 0.6419\n",
            "Epoch 21/30\n",
            "809/809 [==============================] - 8s 10ms/step - loss: 0.2688 - acc: 0.8828 - f1_m: 0.8870 - precision_m: 0.8490 - recall_m: 0.9339 - val_loss: 0.7747 - val_acc: 0.7718 - val_f1_m: 0.4285 - val_precision_m: 0.3356 - val_recall_m: 0.6351\n",
            "Epoch 22/30\n",
            "809/809 [==============================] - 8s 10ms/step - loss: 0.2607 - acc: 0.8868 - f1_m: 0.8908 - precision_m: 0.8520 - recall_m: 0.9380 - val_loss: 0.6925 - val_acc: 0.7770 - val_f1_m: 0.4288 - val_precision_m: 0.3419 - val_recall_m: 0.6214\n",
            "Epoch 23/30\n",
            "809/809 [==============================] - 8s 10ms/step - loss: 0.2522 - acc: 0.8917 - f1_m: 0.8954 - precision_m: 0.8583 - recall_m: 0.9401 - val_loss: 0.7156 - val_acc: 0.8111 - val_f1_m: 0.4338 - val_precision_m: 0.3766 - val_recall_m: 0.5424\n",
            "Epoch 24/30\n",
            "809/809 [==============================] - 8s 10ms/step - loss: 0.2493 - acc: 0.8920 - f1_m: 0.8957 - precision_m: 0.8596 - recall_m: 0.9395 - val_loss: 0.8176 - val_acc: 0.7123 - val_f1_m: 0.3876 - val_precision_m: 0.2806 - val_recall_m: 0.6707\n",
            "Epoch 25/30\n",
            "809/809 [==============================] - 8s 10ms/step - loss: 0.2407 - acc: 0.8954 - f1_m: 0.8990 - precision_m: 0.8614 - recall_m: 0.9443 - val_loss: 0.8854 - val_acc: 0.7813 - val_f1_m: 0.4200 - val_precision_m: 0.3388 - val_recall_m: 0.5890\n",
            "Epoch 26/30\n",
            "809/809 [==============================] - 8s 10ms/step - loss: 0.2376 - acc: 0.8978 - f1_m: 0.9007 - precision_m: 0.8665 - recall_m: 0.9416 - val_loss: 0.7629 - val_acc: 0.7784 - val_f1_m: 0.4122 - val_precision_m: 0.3309 - val_recall_m: 0.5809\n",
            "Epoch 27/30\n",
            "809/809 [==============================] - 8s 10ms/step - loss: 0.2310 - acc: 0.9023 - f1_m: 0.9050 - precision_m: 0.8710 - recall_m: 0.9456 - val_loss: 0.7345 - val_acc: 0.7991 - val_f1_m: 0.4154 - val_precision_m: 0.3569 - val_recall_m: 0.5336\n",
            "Epoch 28/30\n",
            "809/809 [==============================] - 8s 10ms/step - loss: 0.2273 - acc: 0.9020 - f1_m: 0.9046 - precision_m: 0.8715 - recall_m: 0.9446 - val_loss: 0.7424 - val_acc: 0.7729 - val_f1_m: 0.3985 - val_precision_m: 0.3254 - val_recall_m: 0.5539\n",
            "Epoch 29/30\n",
            "809/809 [==============================] - 8s 10ms/step - loss: 0.2226 - acc: 0.9046 - f1_m: 0.9072 - precision_m: 0.8746 - recall_m: 0.9464 - val_loss: 0.8607 - val_acc: 0.8091 - val_f1_m: 0.4068 - val_precision_m: 0.3634 - val_recall_m: 0.4919\n",
            "Epoch 30/30\n",
            "809/809 [==============================] - 8s 10ms/step - loss: 0.2149 - acc: 0.9085 - f1_m: 0.9107 - precision_m: 0.8774 - recall_m: 0.9502 - val_loss: 0.9521 - val_acc: 0.7869 - val_f1_m: 0.4098 - val_precision_m: 0.3378 - val_recall_m: 0.5562\n"
          ],
          "name": "stdout"
        },
        {
          "output_type": "execute_result",
          "data": {
            "text/plain": [
              "<tensorflow.python.keras.callbacks.History at 0x7f5ea4800198>"
            ]
          },
          "metadata": {
            "tags": []
          },
          "execution_count": 215
        }
      ]
    },
    {
      "cell_type": "code",
      "metadata": {
        "id": "OO26T4cz4AYD",
        "colab_type": "code",
        "outputId": "8f06f8cb-b7f6-40c8-f6f8-7622a5c4967d",
        "colab": {
          "base_uri": "https://localhost:8080/",
          "height": 34
        }
      },
      "source": [
        "resnetModelPrediction = (resNetModel.predict(normalizedXTest)>0.5).astype('int')\n",
        "score = accuracy_score(y_test, resnetModelPrediction[:,1])\n",
        "print(score)"
      ],
      "execution_count": 220,
      "outputs": [
        {
          "output_type": "stream",
          "text": [
            "0.7868634490094403\n"
          ],
          "name": "stdout"
        }
      ]
    },
    {
      "cell_type": "code",
      "metadata": {
        "id": "XrdaGxofGF_R",
        "colab_type": "code",
        "outputId": "ed4cdd65-ce40-4266-bbad-74723a0e1bc5",
        "colab": {
          "base_uri": "https://localhost:8080/",
          "height": 316
        }
      },
      "source": [
        "cnf_matrix = confusion_matrix(y_test, resnetModelPrediction[:,1])\n",
        "print('\\nConfusion matrix for  ResNet')\n",
        "group_names = ['True Neg','False Pos','False Neg','True Pos']\n",
        "group_counts = [\"{0:0.0f}\".format(value) for value in\n",
        "                cnf_matrix.flatten()]\n",
        "labels = [f\"{v1}\\n{v2}\" for v1, v2 in\n",
        "          zip(group_names,group_counts)]\n",
        "labels = np.asarray(labels).reshape(2,2)\n",
        "sns.heatmap(cnf_matrix, annot=labels, fmt='', cmap='Blues')"
      ],
      "execution_count": 221,
      "outputs": [
        {
          "output_type": "stream",
          "text": [
            "\n",
            "Confusion matrix for  ResNet\n"
          ],
          "name": "stdout"
        },
        {
          "output_type": "execute_result",
          "data": {
            "text/plain": [
              "<matplotlib.axes._subplots.AxesSubplot at 0x7f5ea8b39b38>"
            ]
          },
          "metadata": {
            "tags": []
          },
          "execution_count": 221
        },
        {
          "output_type": "display_data",
          "data": {
            "image/png": "[encoded data removed]",
            "text/plain": [
              "<Figure size 432x288 with 2 Axes>"
            ]
          },
          "metadata": {
            "tags": [],
            "needs_background": "light"
          }
        }
      ]
    },
    {
      "cell_type": "code",
      "metadata": {
        "id": "FKb9iUSLGVF4",
        "colab_type": "code",
        "outputId": "4f24b4ea-9457-4f5d-8383-6c7843f53b68",
        "colab": {
          "base_uri": "https://localhost:8080/",
          "height": 170
        }
      },
      "source": [
        "print(classification_report(y_test, resnetModelPrediction[:,1]))"
      ],
      "execution_count": 223,
      "outputs": [
        {
          "output_type": "stream",
          "text": [
            "              precision    recall  f1-score   support\n",
            "\n",
            "           0       0.92      0.82      0.87      6468\n",
            "           1       0.34      0.56      0.42      1053\n",
            "\n",
            "    accuracy                           0.79      7521\n",
            "   macro avg       0.63      0.69      0.65      7521\n",
            "weighted avg       0.84      0.79      0.81      7521\n",
            "\n"
          ],
          "name": "stdout"
        }
      ]
    },
    {
      "cell_type": "code",
      "metadata": {
        "id": "Ubjd3z-GGinF",
        "colab_type": "code",
        "colab": {
          "base_uri": "https://localhost:8080/",
          "height": 295
        },
        "outputId": "1e76f4ae-ce53-4dde-b0e4-2d31797922fd"
      },
      "source": [
        "probs = resNetModel.predict(normalizedXTest)\n",
        "for i in range(0,2):\n",
        "    preds = probs[:,i]\n",
        "    fpr, tpr, threshold = roc_curve(y_test, preds, pos_label=i)\n",
        "    roc_auc =auc(fpr, tpr)\n",
        "    plt.plot(fpr, tpr, label = 'class {}, AUC {}'.format(i,roc_auc.round(2)))\n",
        "\n",
        "plt.title('Receiver Operating Characteristic of balanced classifier')    \n",
        "plt.legend(loc = 'lower right')\n",
        "plt.plot([0, 1], [0, 1],'r--')\n",
        "plt.xlim([0, 1])\n",
        "plt.ylim([0, 1])\n",
        "plt.ylabel('True Positive Rate')\n",
        "plt.xlabel('False Positive Rate')\n",
        "plt.show()"
      ],
      "execution_count": 225,
      "outputs": [
        {
          "output_type": "display_data",
          "data": {
            "image/png": "[encoded data removed]",
            "text/plain": [
              "<Figure size 432x288 with 1 Axes>"
            ]
          },
          "metadata": {
            "tags": [],
            "needs_background": "light"
          }
        }
      ]
    }
  ]
}